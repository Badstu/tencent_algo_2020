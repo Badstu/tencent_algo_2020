{
 "cells": [
  {
   "cell_type": "code",
   "execution_count": 1,
   "metadata": {},
   "outputs": [],
   "source": [
    "from IPython.core.interactiveshell import InteractiveShell\n",
    "InteractiveShell.ast_node_interactivity = \"all\" "
   ]
  },
  {
   "cell_type": "code",
   "execution_count": 3,
   "metadata": {},
   "outputs": [],
   "source": [
    "# import data\n",
    "import lightgbm as lgb\n",
    "import numpy as np\n",
    "import os\n",
    "import sys\n",
    "import pandas as pd\n",
    "import matplotlib\n",
    "from sklearn.model_selection import train_test_split\n",
    "from sklearn.datasets import load_iris\n",
    "from sklearn.metrics import mean_squared_error, roc_auc_score, accuracy_score\n",
    "\n",
    "%matplotlib inline"
   ]
  },
  {
   "cell_type": "code",
   "execution_count": 25,
   "metadata": {},
   "outputs": [],
   "source": [
    "def get_data():\n",
    "    train_root = \"dataset/train/\"\n",
    "    train_user_path = os.path.join(train_root, \"user.csv\")\n",
    "    train_ad_path = os.path.join(train_root, \"ad.csv\")\n",
    "    train_click_path = os.path.join(train_root, \"click_log.csv\")\n",
    "    test_root = \"dataset/test/\"\n",
    "    test_ad_path = os.path.join(test_root, \"ad.csv\")\n",
    "    test_click_path = os.path.join(test_root, \"click_log.csv\")\n",
    "    \n",
    "    train_ad = pd.read_csv(train_ad_path, na_values=\"\\\\N\")\n",
    "    train_click = pd.read_csv(train_click_path, na_values=\"\\\\N\")\n",
    "    train_user = pd.read_csv(train_user_path, na_values=\"\\\\N\")\n",
    "    test_ad = pd.read_csv(test_ad_path, na_values=\"\\\\N\")\n",
    "    test_click = pd.read_csv(test_click_path, na_values=\"\\\\N\")\n",
    "    \n",
    "    return train_ad, train_click, train_user, test_ad, test_click\n",
    "\n",
    "\n",
    "def get_part_click(total_click, list_user_id, on=\"user_id\"):\n",
    "    part_record = pd.merge(total_click, list_user_id, on=on)\n",
    "    return part_record\n",
    "\n",
    "\n",
    "def get_ad_inform(creative_id, data_ad):\n",
    "    ad_inform = data_ad[data_ad[\"creative_id\"] == creative_id]\n",
    "#     print(ad_inform.astype(int))\n",
    "    return ad_inform.astype(int)\n",
    "\n",
    "\n",
    "def split_feature_target(raw_features):\n",
    "    train_features = raw_features.iloc[:, [0, 2, 3, 6, 7, 8, 9, 10]]\n",
    "    train_age = raw_features.iloc[:, 4]\n",
    "    train_gender = raw_features.iloc[:, 5]\n",
    "    \n",
    "    return train_features, train_age, train_gender\n",
    "\n",
    "def measure_unique_user(record_pred, data_record, data_user, column_name=\"gender\"):\n",
    "    df_pred = pd.DataFrame(data_record.user_id)\n",
    "    df_pred[column_name] = np.array(record_pred)\n",
    "    \n",
    "    uni_user_pred = df_pred.groupby(\"user_id\").agg({column_name: lambda x: x.value_counts().index[0]})\n",
    "    pred = uni_user_pred.iloc[:, 0].values + 1\n",
    "    target = data_user.sort_values(\"user_id\")[column_name].values\n",
    "    acc_score = accuracy_score(pred, target)\n",
    "    \n",
    "    return uni_user_pred, acc_score"
   ]
  },
  {
   "cell_type": "code",
   "execution_count": 4,
   "metadata": {},
   "outputs": [],
   "source": [
    "train_ad, train_click, train_user, test_ad, test_click = get_data()"
   ]
  },
  {
   "cell_type": "code",
   "execution_count": 5,
   "metadata": {},
   "outputs": [],
   "source": [
    "train_user, valid_user = train_test_split(train_user, test_size=0.33, random_state=42)"
   ]
  },
  {
   "cell_type": "code",
   "execution_count": 6,
   "metadata": {},
   "outputs": [],
   "source": [
    "train_record = get_part_click(train_click, train_user)\n",
    "valid_record = get_part_click(train_click, valid_user)"
   ]
  },
  {
   "cell_type": "code",
   "execution_count": 7,
   "metadata": {},
   "outputs": [],
   "source": [
    "# train_record\n",
    "train_raw_features = pd.merge(train_record, train_ad, on=\"creative_id\")\n",
    "# valid_record\n",
    "valid_raw_features = pd.merge(valid_record, train_ad, on=\"creative_id\")"
   ]
  },
  {
   "cell_type": "code",
   "execution_count": 8,
   "metadata": {},
   "outputs": [],
   "source": [
    "train_features, train_age, train_gender = split_feature_target(train_raw_features)\n",
    "valid_features, valid_age, valid_gender = split_feature_target(valid_raw_features)\n",
    "\n",
    "train_features = train_features.values\n",
    "train_age = train_age.values - 1\n",
    "train_gender = train_gender.values - 1\n",
    "\n",
    "valid_features = valid_features.values\n",
    "valid_age = valid_age.values - 1\n",
    "valid_gender = valid_gender.values - 1"
   ]
  },
  {
   "cell_type": "code",
   "execution_count": 9,
   "metadata": {},
   "outputs": [
    {
     "data": {
      "text/plain": [
       "(20151356, 8)"
      ]
     },
     "execution_count": 9,
     "metadata": {},
     "output_type": "execute_result"
    }
   ],
   "source": [
    "train_features.shape"
   ]
  },
  {
   "cell_type": "code",
   "execution_count": 41,
   "metadata": {},
   "outputs": [],
   "source": [
    "import data\n",
    "\n",
    "class MODEL:\n",
    "    def __init__(self, train_dataset, valid_dataset, model_kind=\"gender\"):\n",
    "        '''\n",
    "        @train_dataset: lgb.Dataset(X, y)\n",
    "        @valid_dataset: lgb.Dataset(X, y)\n",
    "        '''\n",
    "        self.train_dataset = train_dataset\n",
    "        self.valid_dataset = valid_dataset\n",
    "        \n",
    "        self.params = {\n",
    "            'task': 'train',\n",
    "            'boosting_type': 'gbdt',  # 设置提升类型\n",
    "            'num_leaves': 47,  # 叶子节点数\n",
    "            'learning_rate': 0.1,  # 学习速率\n",
    "            'feature_fraction': 0.9,  # 建树的特征选择比例\n",
    "            'bagging_fraction': 0.8,  # 建树的样本采样比例\n",
    "            'lambda_l2': 0.01,\n",
    "            'bagging_freq': 5,  # k 意味着每 k 次迭代执行bagging\n",
    "            'verbose': 1  # <0 显示致命的, =0 显示错误 (警告), >0 显示信息\n",
    "        }\n",
    "        self.categorical_feature = [1, 3, 4, 5, 6, 7]\n",
    "        self.num_interations = 100\n",
    "        \n",
    "        self.model_kind = model_kind\n",
    "        if self.model_kind == \"gender\":\n",
    "            self.params[\"metric\"] = {\"binary_logloss\", \"auc\"}\n",
    "            self.params[\"objective\"] = \"binary\"\n",
    "            self.model_save_path = \"checkpoints/gender_model.pkl\"\n",
    "        elif self.model_kind == \"age\":\n",
    "            self.params[\"metric\"] = {\"softmax\"}\n",
    "            self.params[\"objective\"] = \"multiclass\"\n",
    "            self.params['num_class'] = 10\n",
    "            self.model_save_path = \"checkpoints/age_model.pkl\"\n",
    "\n",
    "    def train(self):\n",
    "        self.gbm = lgb.train(self.params,\n",
    "                        self.train_dataset,\n",
    "                        num_boost_round=self.num_interations,\n",
    "                        valid_sets=self.valid_dataset,\n",
    "                        early_stopping_rounds=10,\n",
    "                        categorical_feature=self.categorical_feature)        \n",
    "    \n",
    "    def get_model(self):\n",
    "        return self.gbm\n",
    "    \n",
    "    def save_model(self):\n",
    "        self.gbm.save_model(self.model_save_path)\n",
    "        \n",
    "    def predict(self, input_features):\n",
    "        pred = self.gbm.predict(input_features, num_iteration=self.gbm.best_iteration)\n",
    "        return pred\n",
    "    \n",
    "    def transform_pred(self, pred):\n",
    "        if self.model_kind == \"gender\":\n",
    "            record_pred_label = pred.copy()\n",
    "            record_pred_label[pred >= 0.5] = 1\n",
    "            record_pred_label[pred < 0.5] = 0\n",
    "            record_acc = accuracy_score(record_pred_label.astype(int), valid_gender)\n",
    "        elif self.model_kind == \"age\":\n",
    "            record_pred_label = [list(x).index(max(x)) for x in pred]\n",
    "            record_acc = accuracy_score(np.array(age_pred_label), valid_age)\n",
    "            \n",
    "        print(\"accuracy for {} is: {:.5f}\".format(self.model_kind, record_acc))\n",
    "        \n",
    "        return record_pred_label\n",
    "    \n",
    "    def measure(self, record_pred_label, data_record, data_user, column_name=self.model_kind):\n",
    "        uni_pred, uni_acc = data.measure_unique_user(record_pred_label, data_record, data_user, column_name)\n",
    "        return uni_pred, uni_acc\n",
    "\n",
    "m = MODEL()"
   ]
  },
  {
   "cell_type": "code",
   "execution_count": 10,
   "metadata": {},
   "outputs": [],
   "source": [
    "lgb_traindata_gender = lgb.Dataset(train_features, train_gender)\n",
    "lgb_traindata_age = lgb.Dataset(train_features, train_age)\n",
    "\n",
    "lgb_valdata_gender = lgb.Dataset(valid_features, valid_gender, reference=lgb_traindata_gender)\n",
    "lgb_valdata_age = lgb.Dataset(valid_features, valid_age, reference=lgb_traindata_age)"
   ]
  },
  {
   "cell_type": "code",
   "execution_count": 37,
   "metadata": {},
   "outputs": [
    {
     "name": "stdout",
     "output_type": "stream",
     "text": [
      "[1]\tvalid_0's auc: 0.686178\tvalid_0's binary_logloss: 0.612375\n",
      "Training until validation scores don't improve for 10 rounds\n",
      "[2]\tvalid_0's auc: 0.69345\tvalid_0's binary_logloss: 0.603091\n",
      "[3]\tvalid_0's auc: 0.702861\tvalid_0's binary_logloss: 0.595275\n",
      "[4]\tvalid_0's auc: 0.70558\tvalid_0's binary_logloss: 0.588851\n",
      "[5]\tvalid_0's auc: 0.707777\tvalid_0's binary_logloss: 0.583397\n",
      "[6]\tvalid_0's auc: 0.709984\tvalid_0's binary_logloss: 0.578668\n",
      "[7]\tvalid_0's auc: 0.71118\tvalid_0's binary_logloss: 0.574576\n",
      "[8]\tvalid_0's auc: 0.713203\tvalid_0's binary_logloss: 0.570996\n",
      "[9]\tvalid_0's auc: 0.715\tvalid_0's binary_logloss: 0.568381\n",
      "[10]\tvalid_0's auc: 0.71598\tvalid_0's binary_logloss: 0.565319\n"
     ]
    },
    {
     "ename": "KeyboardInterrupt",
     "evalue": "",
     "output_type": "error",
     "traceback": [
      "\u001b[0;31m---------------------------------------------------------------------------\u001b[0m",
      "\u001b[0;31mKeyboardInterrupt\u001b[0m                         Traceback (most recent call last)",
      "\u001b[0;32m<ipython-input-37-b1f335cc11fa>\u001b[0m in \u001b[0;36m<module>\u001b[0;34m\u001b[0m\n\u001b[1;32m     23\u001b[0m                        \u001b[0mvalid_sets\u001b[0m\u001b[0;34m=\u001b[0m\u001b[0mlgb_valdata_gender\u001b[0m\u001b[0;34m,\u001b[0m\u001b[0;34m\u001b[0m\u001b[0;34m\u001b[0m\u001b[0m\n\u001b[1;32m     24\u001b[0m                        \u001b[0mearly_stopping_rounds\u001b[0m\u001b[0;34m=\u001b[0m\u001b[0;36m10\u001b[0m\u001b[0;34m,\u001b[0m\u001b[0;34m\u001b[0m\u001b[0;34m\u001b[0m\u001b[0m\n\u001b[0;32m---> 25\u001b[0;31m                        categorical_feature=categorical_feature)\n\u001b[0m\u001b[1;32m     26\u001b[0m \u001b[0mgbm_gender\u001b[0m\u001b[0;34m.\u001b[0m\u001b[0msave_model\u001b[0m\u001b[0;34m(\u001b[0m\u001b[0mmodel_save_path\u001b[0m\u001b[0;34m)\u001b[0m\u001b[0;34m\u001b[0m\u001b[0;34m\u001b[0m\u001b[0m\n",
      "\u001b[0;32m~/anaconda3/envs/taac/lib/python3.7/site-packages/lightgbm/engine.py\u001b[0m in \u001b[0;36mtrain\u001b[0;34m(params, train_set, num_boost_round, valid_sets, valid_names, fobj, feval, init_model, feature_name, categorical_feature, early_stopping_rounds, evals_result, verbose_eval, learning_rates, keep_training_booster, callbacks)\u001b[0m\n\u001b[1;32m    247\u001b[0m                                     evaluation_result_list=None))\n\u001b[1;32m    248\u001b[0m \u001b[0;34m\u001b[0m\u001b[0m\n\u001b[0;32m--> 249\u001b[0;31m         \u001b[0mbooster\u001b[0m\u001b[0;34m.\u001b[0m\u001b[0mupdate\u001b[0m\u001b[0;34m(\u001b[0m\u001b[0mfobj\u001b[0m\u001b[0;34m=\u001b[0m\u001b[0mfobj\u001b[0m\u001b[0;34m)\u001b[0m\u001b[0;34m\u001b[0m\u001b[0;34m\u001b[0m\u001b[0m\n\u001b[0m\u001b[1;32m    250\u001b[0m \u001b[0;34m\u001b[0m\u001b[0m\n\u001b[1;32m    251\u001b[0m         \u001b[0mevaluation_result_list\u001b[0m \u001b[0;34m=\u001b[0m \u001b[0;34m[\u001b[0m\u001b[0;34m]\u001b[0m\u001b[0;34m\u001b[0m\u001b[0;34m\u001b[0m\u001b[0m\n",
      "\u001b[0;32m~/anaconda3/envs/taac/lib/python3.7/site-packages/lightgbm/basic.py\u001b[0m in \u001b[0;36mupdate\u001b[0;34m(self, train_set, fobj)\u001b[0m\n\u001b[1;32m   1974\u001b[0m             _safe_call(_LIB.LGBM_BoosterUpdateOneIter(\n\u001b[1;32m   1975\u001b[0m                 \u001b[0mself\u001b[0m\u001b[0;34m.\u001b[0m\u001b[0mhandle\u001b[0m\u001b[0;34m,\u001b[0m\u001b[0;34m\u001b[0m\u001b[0;34m\u001b[0m\u001b[0m\n\u001b[0;32m-> 1976\u001b[0;31m                 ctypes.byref(is_finished)))\n\u001b[0m\u001b[1;32m   1977\u001b[0m             \u001b[0mself\u001b[0m\u001b[0;34m.\u001b[0m\u001b[0m__is_predicted_cur_iter\u001b[0m \u001b[0;34m=\u001b[0m \u001b[0;34m[\u001b[0m\u001b[0;32mFalse\u001b[0m \u001b[0;32mfor\u001b[0m \u001b[0m_\u001b[0m \u001b[0;32min\u001b[0m \u001b[0mrange_\u001b[0m\u001b[0;34m(\u001b[0m\u001b[0mself\u001b[0m\u001b[0;34m.\u001b[0m\u001b[0m__num_dataset\u001b[0m\u001b[0;34m)\u001b[0m\u001b[0;34m]\u001b[0m\u001b[0;34m\u001b[0m\u001b[0;34m\u001b[0m\u001b[0m\n\u001b[1;32m   1978\u001b[0m             \u001b[0;32mreturn\u001b[0m \u001b[0mis_finished\u001b[0m\u001b[0;34m.\u001b[0m\u001b[0mvalue\u001b[0m \u001b[0;34m==\u001b[0m \u001b[0;36m1\u001b[0m\u001b[0;34m\u001b[0m\u001b[0;34m\u001b[0m\u001b[0m\n",
      "\u001b[0;31mKeyboardInterrupt\u001b[0m: "
     ]
    }
   ],
   "source": [
    "params = {\n",
    "    'task': 'train',\n",
    "    'boosting_type': 'gbdt',  # 设置提升类型\n",
    "#     'objective': 'regression',  # 目标函数\n",
    "    'num_leaves': 31,  # 叶子节点数\n",
    "    'learning_rate': 0.1,  # 学习速率\n",
    "    'feature_fraction': 0.9,  # 建树的特征选择比例\n",
    "    'bagging_fraction': 0.8,  # 建树的样本采样比例\n",
    "    'lambda_l2': 0.01,\n",
    "    'bagging_freq': 5,  # k 意味着每 k 次迭代执行bagging\n",
    "    'verbose': 1  # <0 显示致命的, =0 显示错误 (警告), >0 显示信息\n",
    "}\n",
    "categorical_feature = [1, 3, 4, 5, 6, 7]\n",
    "\n",
    "params_gender = params.copy()\n",
    "params_gender[\"metric\"] = {\"binary_logloss\", \"auc\"}\n",
    "params_gender[\"objective\"] = \"binary\"\n",
    "model_save_path = \"checkpoints/gender_model.pkl\"\n",
    "\n",
    "gbm_gender = lgb.train(params_gender, \n",
    "                       lgb_traindata_gender, \n",
    "                       num_boost_round=100, \n",
    "                       valid_sets=lgb_valdata_gender, \n",
    "                       early_stopping_rounds=10,\n",
    "                       categorical_feature=categorical_feature)\n",
    "gbm_gender.save_model(model_save_path)"
   ]
  },
  {
   "cell_type": "code",
   "execution_count": 12,
   "metadata": {},
   "outputs": [
    {
     "data": {
      "text/plain": [
       "array([0.01006011, 0.01006011, 0.01006011, ..., 0.05080076, 0.05226905,\n",
       "       0.04350702])"
      ]
     },
     "execution_count": 12,
     "metadata": {},
     "output_type": "execute_result"
    }
   ],
   "source": [
    "# Predicting\n",
    "gen_pred = gbm_gender.predict(valid_features, num_iteration=gbm_gender.best_iteration)\n",
    "gen_pred"
   ]
  },
  {
   "cell_type": "code",
   "execution_count": 13,
   "metadata": {},
   "outputs": [
    {
     "data": {
      "text/plain": [
       "array([0, 1])"
      ]
     },
     "execution_count": 13,
     "metadata": {},
     "output_type": "execute_result"
    },
    {
     "data": {
      "text/plain": [
       "array([0, 1])"
      ]
     },
     "execution_count": 13,
     "metadata": {},
     "output_type": "execute_result"
    },
    {
     "name": "stdout",
     "output_type": "stream",
     "text": [
      "accuracy for gender is: 0.73253\n"
     ]
    }
   ],
   "source": [
    "gen_pred_label = gen_pred.copy()\n",
    "\n",
    "gen_pred_label[gen_pred >= 0.5] = 1\n",
    "gen_pred_label[gen_pred < 0.5] = 0\n",
    "\n",
    "np.unique(gen_pred_label.astype(int))\n",
    "np.unique(valid_gender)\n",
    "\n",
    "gen_acc = accuracy_score(gen_pred_label.astype(int), valid_gender)\n",
    "print(\"accuracy for gender is: {:.5f}\".format(gen_acc))"
   ]
  },
  {
   "cell_type": "code",
   "execution_count": 14,
   "metadata": {},
   "outputs": [
    {
     "name": "stdout",
     "output_type": "stream",
     "text": [
      "accuracy for unique users' gender: 0.6408316498316499\n"
     ]
    }
   ],
   "source": [
    "uni_user_gender_pred, unique_user_gender_acc = measure_unique_user(gen_pred_label, valid_record, valid_user, column_name=\"gender\")\n",
    "print(\"accuracy for unique users' gender: {}\".format(unique_user_gender_acc))"
   ]
  },
  {
   "cell_type": "markdown",
   "metadata": {},
   "source": [
    "# age model"
   ]
  },
  {
   "cell_type": "code",
   "execution_count": 15,
   "metadata": {},
   "outputs": [
    {
     "name": "stdout",
     "output_type": "stream",
     "text": [
      "[1]\tvalid_0's multi_logloss: 2.0449\n",
      "Training until validation scores don't improve for 10 rounds\n",
      "[2]\tvalid_0's multi_logloss: 2.03802\n",
      "[3]\tvalid_0's multi_logloss: 2.03195\n",
      "[4]\tvalid_0's multi_logloss: 2.0266\n",
      "[5]\tvalid_0's multi_logloss: 2.02195\n",
      "[6]\tvalid_0's multi_logloss: 2.01773\n",
      "[7]\tvalid_0's multi_logloss: 2.01404\n",
      "[8]\tvalid_0's multi_logloss: 2.01066\n",
      "[9]\tvalid_0's multi_logloss: 2.00762\n",
      "[10]\tvalid_0's multi_logloss: 2.00482\n",
      "[11]\tvalid_0's multi_logloss: 2.00222\n",
      "[12]\tvalid_0's multi_logloss: 1.99978\n",
      "[13]\tvalid_0's multi_logloss: 1.99762\n",
      "[14]\tvalid_0's multi_logloss: 1.99558\n",
      "[15]\tvalid_0's multi_logloss: 1.99373\n",
      "[16]\tvalid_0's multi_logloss: 1.99197\n",
      "[17]\tvalid_0's multi_logloss: 1.99037\n",
      "[18]\tvalid_0's multi_logloss: 1.98888\n",
      "[19]\tvalid_0's multi_logloss: 1.98741\n",
      "[20]\tvalid_0's multi_logloss: 1.98605\n",
      "[21]\tvalid_0's multi_logloss: 1.98478\n",
      "[22]\tvalid_0's multi_logloss: 1.98354\n",
      "[23]\tvalid_0's multi_logloss: 1.98241\n",
      "[24]\tvalid_0's multi_logloss: 1.98131\n",
      "[25]\tvalid_0's multi_logloss: 1.98028\n",
      "[26]\tvalid_0's multi_logloss: 1.97935\n",
      "[27]\tvalid_0's multi_logloss: 1.97848\n",
      "[28]\tvalid_0's multi_logloss: 1.97763\n",
      "[29]\tvalid_0's multi_logloss: 1.97679\n",
      "[30]\tvalid_0's multi_logloss: 1.97602\n",
      "[31]\tvalid_0's multi_logloss: 1.97531\n",
      "[32]\tvalid_0's multi_logloss: 1.97464\n",
      "[33]\tvalid_0's multi_logloss: 1.974\n",
      "[34]\tvalid_0's multi_logloss: 1.97339\n",
      "[35]\tvalid_0's multi_logloss: 1.97277\n",
      "[36]\tvalid_0's multi_logloss: 1.97223\n",
      "[37]\tvalid_0's multi_logloss: 1.9717\n",
      "[38]\tvalid_0's multi_logloss: 1.97119\n",
      "[39]\tvalid_0's multi_logloss: 1.97071\n",
      "[40]\tvalid_0's multi_logloss: 1.97025\n",
      "[41]\tvalid_0's multi_logloss: 1.96982\n",
      "[42]\tvalid_0's multi_logloss: 1.96939\n",
      "[43]\tvalid_0's multi_logloss: 1.96896\n",
      "[44]\tvalid_0's multi_logloss: 1.96856\n",
      "[45]\tvalid_0's multi_logloss: 1.96816\n",
      "[46]\tvalid_0's multi_logloss: 1.9678\n",
      "[47]\tvalid_0's multi_logloss: 1.96744\n",
      "[48]\tvalid_0's multi_logloss: 1.96708\n",
      "[49]\tvalid_0's multi_logloss: 1.96675\n",
      "[50]\tvalid_0's multi_logloss: 1.96642\n",
      "[51]\tvalid_0's multi_logloss: 1.9661\n",
      "[52]\tvalid_0's multi_logloss: 1.96582\n",
      "[53]\tvalid_0's multi_logloss: 1.96551\n",
      "[54]\tvalid_0's multi_logloss: 1.9652\n",
      "[55]\tvalid_0's multi_logloss: 1.96491\n",
      "[56]\tvalid_0's multi_logloss: 1.96465\n",
      "[57]\tvalid_0's multi_logloss: 1.9644\n",
      "[58]\tvalid_0's multi_logloss: 1.96412\n",
      "[59]\tvalid_0's multi_logloss: 1.96387\n",
      "[60]\tvalid_0's multi_logloss: 1.96363\n",
      "[61]\tvalid_0's multi_logloss: 1.96343\n",
      "[62]\tvalid_0's multi_logloss: 1.96319\n",
      "[63]\tvalid_0's multi_logloss: 1.96298\n",
      "[64]\tvalid_0's multi_logloss: 1.96274\n",
      "[65]\tvalid_0's multi_logloss: 1.96252\n",
      "[66]\tvalid_0's multi_logloss: 1.96232\n",
      "[67]\tvalid_0's multi_logloss: 1.96213\n",
      "[68]\tvalid_0's multi_logloss: 1.96191\n",
      "[69]\tvalid_0's multi_logloss: 1.96172\n",
      "[70]\tvalid_0's multi_logloss: 1.96153\n",
      "[71]\tvalid_0's multi_logloss: 1.96137\n",
      "[72]\tvalid_0's multi_logloss: 1.9612\n",
      "[73]\tvalid_0's multi_logloss: 1.96102\n",
      "[74]\tvalid_0's multi_logloss: 1.96084\n",
      "[75]\tvalid_0's multi_logloss: 1.96069\n",
      "[76]\tvalid_0's multi_logloss: 1.96054\n",
      "[77]\tvalid_0's multi_logloss: 1.96038\n",
      "[78]\tvalid_0's multi_logloss: 1.96022\n",
      "[79]\tvalid_0's multi_logloss: 1.96007\n",
      "[80]\tvalid_0's multi_logloss: 1.95991\n",
      "[81]\tvalid_0's multi_logloss: 1.95978\n",
      "[82]\tvalid_0's multi_logloss: 1.95964\n",
      "[83]\tvalid_0's multi_logloss: 1.95952\n",
      "[84]\tvalid_0's multi_logloss: 1.9594\n",
      "[85]\tvalid_0's multi_logloss: 1.95927\n",
      "[86]\tvalid_0's multi_logloss: 1.95915\n",
      "[87]\tvalid_0's multi_logloss: 1.95904\n",
      "[88]\tvalid_0's multi_logloss: 1.95891\n",
      "[89]\tvalid_0's multi_logloss: 1.95878\n",
      "[90]\tvalid_0's multi_logloss: 1.95865\n",
      "[91]\tvalid_0's multi_logloss: 1.95853\n",
      "[92]\tvalid_0's multi_logloss: 1.95842\n",
      "[93]\tvalid_0's multi_logloss: 1.95831\n",
      "[94]\tvalid_0's multi_logloss: 1.95819\n",
      "[95]\tvalid_0's multi_logloss: 1.95809\n",
      "[96]\tvalid_0's multi_logloss: 1.95798\n",
      "[97]\tvalid_0's multi_logloss: 1.95788\n",
      "[98]\tvalid_0's multi_logloss: 1.95778\n",
      "[99]\tvalid_0's multi_logloss: 1.95767\n",
      "[100]\tvalid_0's multi_logloss: 1.95757\n",
      "Did not meet early stopping. Best iteration is:\n",
      "[100]\tvalid_0's multi_logloss: 1.95757\n"
     ]
    },
    {
     "data": {
      "text/plain": [
       "<lightgbm.basic.Booster at 0x7f83b0295c50>"
      ]
     },
     "execution_count": 15,
     "metadata": {},
     "output_type": "execute_result"
    }
   ],
   "source": [
    "params = {\n",
    "    'task': 'train',\n",
    "    'boosting_type': 'gbdt',  # 设置提升类型\n",
    "#     'objective': 'regression',  # 目标函数\n",
    "    'num_leaves': 47,  # 叶子节点数\n",
    "    'learning_rate': 0.1,  # 学习速率\n",
    "    'feature_fraction': 0.9,  # 建树的特征选择比例\n",
    "    'bagging_fraction': 0.8,  # 建树的样本采样比例\n",
    "    'lambda_l2': 0.01,\n",
    "    'bagging_freq': 5,  # k 意味着每 k 次迭代执行bagging\n",
    "    'verbose': 1  # <0 显示致命的, =0 显示错误 (警告), >0 显示信息\n",
    "}\n",
    "\n",
    "categorical_feature = [1, 3, 4, 5, 6, 7]\n",
    "params_age = params.copy()\n",
    "params_age[\"metric\"] = {\"softmax\"}\n",
    "params_age['num_class'] = 10\n",
    "params_age['objective'] = \"multiclass\"\n",
    "model_save_path = \"checkpoints/age_model.pkl\"\n",
    "\n",
    "gbm_age = lgb.train(params_age, lgb_traindata_age, num_boost_round=100,\n",
    "                   valid_sets=lgb_valdata_age, early_stopping_rounds=10,\n",
    "                   categorical_feature=categorical_feature)\n",
    "gbm_age.save_model(model_save_path)"
   ]
  },
  {
   "cell_type": "code",
   "execution_count": 16,
   "metadata": {},
   "outputs": [
    {
     "data": {
      "text/plain": [
       "array([[0.04727743, 0.25087161, 0.29262795, ..., 0.00138141, 0.00166182,\n",
       "        0.00099429],\n",
       "       [0.04731405, 0.25029148, 0.29285456, ..., 0.00138248, 0.00166311,\n",
       "        0.00099506],\n",
       "       [0.04727743, 0.25087161, 0.29262795, ..., 0.00138141, 0.00166182,\n",
       "        0.00099429],\n",
       "       ...,\n",
       "       [0.03046138, 0.17342223, 0.19229391, ..., 0.03368783, 0.0056943 ,\n",
       "        0.00106193],\n",
       "       [0.03132991, 0.18673266, 0.23254126, ..., 0.02966815, 0.00488683,\n",
       "        0.00099639],\n",
       "       [0.04264644, 0.21895324, 0.24463094, ..., 0.01690729, 0.00464181,\n",
       "        0.00098304]])"
      ]
     },
     "execution_count": 16,
     "metadata": {},
     "output_type": "execute_result"
    }
   ],
   "source": [
    "# Predicting\n",
    "age_pred = gbm_age.predict(valid_features, num_iteration=gbm_age.best_iteration)\n",
    "age_pred"
   ]
  },
  {
   "cell_type": "code",
   "execution_count": 17,
   "metadata": {},
   "outputs": [
    {
     "data": {
      "text/plain": [
       "(9931415, 10)"
      ]
     },
     "execution_count": 17,
     "metadata": {},
     "output_type": "execute_result"
    }
   ],
   "source": [
    "age_pred.shape\n",
    "age_pred_label = [list(x).index(max(x)) for x in age_pred]"
   ]
  },
  {
   "cell_type": "code",
   "execution_count": 18,
   "metadata": {},
   "outputs": [
    {
     "data": {
      "text/plain": [
       "{0, 1, 2, 3, 4, 5, 6, 7, 8, 9}"
      ]
     },
     "execution_count": 18,
     "metadata": {},
     "output_type": "execute_result"
    },
    {
     "data": {
      "text/plain": [
       "array([0, 1, 2, 3, 4, 5, 6, 7, 8, 9])"
      ]
     },
     "execution_count": 18,
     "metadata": {},
     "output_type": "execute_result"
    }
   ],
   "source": [
    "set(age_pred_label)\n",
    "np.unique(valid_age)"
   ]
  },
  {
   "cell_type": "code",
   "execution_count": 19,
   "metadata": {},
   "outputs": [
    {
     "name": "stdout",
     "output_type": "stream",
     "text": [
      "record ACC score: 0.237633207352628\n"
     ]
    }
   ],
   "source": [
    "print(\"record ACC score: {}\".format(accuracy_score(np.array(age_pred_label), valid_age)))"
   ]
  },
  {
   "cell_type": "code",
   "execution_count": 20,
   "metadata": {},
   "outputs": [
    {
     "name": "stdout",
     "output_type": "stream",
     "text": [
      "unique users' age ACC score: 0.21176430976430977\n"
     ]
    }
   ],
   "source": [
    "uni_user_age_pred, unique_user_age_acc = measure_unique_user(age_pred_label, valid_record, valid_user, column_name=\"age\")\n",
    "print(\"unique users' age ACC score: {}\".format(unique_user_age_acc))\n"
   ]
  },
  {
   "cell_type": "code",
   "execution_count": 36,
   "metadata": {},
   "outputs": [
    {
     "data": {
      "text/plain": [
       "3     135790\n",
       "4     100727\n",
       "2      99806\n",
       "5      87711\n",
       "6      68283\n",
       "7      44721\n",
       "1      23604\n",
       "8      21535\n",
       "9      13120\n",
       "10      7703\n",
       "Name: age, dtype: int64"
      ]
     },
     "execution_count": 36,
     "metadata": {},
     "output_type": "execute_result"
    },
    {
     "data": {
      "text/plain": [
       "3     67119\n",
       "4     49851\n",
       "2     49465\n",
       "5     42956\n",
       "6     33437\n",
       "7     21990\n",
       "1     11591\n",
       "8     10432\n",
       "9      6354\n",
       "10     3805\n",
       "Name: age, dtype: int64"
      ]
     },
     "execution_count": 36,
     "metadata": {},
     "output_type": "execute_result"
    },
    {
     "data": {
      "text/plain": [
       "2    245170\n",
       "1     21381\n",
       "4     13662\n",
       "3      7870\n",
       "5      5668\n",
       "6      1219\n",
       "0       954\n",
       "9       665\n",
       "8       229\n",
       "7       182\n",
       "Name: (age, <lambda>), dtype: int64"
      ]
     },
     "execution_count": 36,
     "metadata": {},
     "output_type": "execute_result"
    }
   ],
   "source": [
    "train_user.age.value_counts()\n",
    "valid_user.age.value_counts()\n",
    "uni_user_age_pred.iloc[:, 0].value_counts()"
   ]
  },
  {
   "cell_type": "code",
   "execution_count": 35,
   "metadata": {},
   "outputs": [
    {
     "data": {
      "text/plain": [
       "1    403703\n",
       "2    199297\n",
       "Name: gender, dtype: int64"
      ]
     },
     "execution_count": 35,
     "metadata": {},
     "output_type": "execute_result"
    },
    {
     "data": {
      "text/plain": [
       "1    198907\n",
       "2     98093\n",
       "Name: gender, dtype: int64"
      ]
     },
     "execution_count": 35,
     "metadata": {},
     "output_type": "execute_result"
    },
    {
     "data": {
      "text/plain": [
       "0.0    271826\n",
       "1.0     25174\n",
       "Name: (gender, <lambda>), dtype: int64"
      ]
     },
     "execution_count": 35,
     "metadata": {},
     "output_type": "execute_result"
    }
   ],
   "source": [
    "train_user.gender.value_counts()\n",
    "\n",
    "valid_user.gender.value_counts()\n",
    "uni_user_gender_pred.iloc[:, 0].value_counts()"
   ]
  },
  {
   "cell_type": "code",
   "execution_count": 5,
   "metadata": {},
   "outputs": [
    {
     "data": {
      "text/html": [
       "<div>\n",
       "<style scoped>\n",
       "    .dataframe tbody tr th:only-of-type {\n",
       "        vertical-align: middle;\n",
       "    }\n",
       "\n",
       "    .dataframe tbody tr th {\n",
       "        vertical-align: top;\n",
       "    }\n",
       "\n",
       "    .dataframe thead th {\n",
       "        text-align: right;\n",
       "    }\n",
       "</style>\n",
       "<table border=\"1\" class=\"dataframe\">\n",
       "  <thead>\n",
       "    <tr style=\"text-align: right;\">\n",
       "      <th></th>\n",
       "      <th>user_id</th>\n",
       "      <th>predicted_age</th>\n",
       "      <th>predicted_gender</th>\n",
       "    </tr>\n",
       "  </thead>\n",
       "  <tbody>\n",
       "    <tr>\n",
       "      <th>0</th>\n",
       "      <td>1</td>\n",
       "      <td>1</td>\n",
       "      <td>1</td>\n",
       "    </tr>\n",
       "    <tr>\n",
       "      <th>1</th>\n",
       "      <td>2</td>\n",
       "      <td>5</td>\n",
       "      <td>0</td>\n",
       "    </tr>\n",
       "    <tr>\n",
       "      <th>2</th>\n",
       "      <td>3</td>\n",
       "      <td>8</td>\n",
       "      <td>1</td>\n",
       "    </tr>\n",
       "  </tbody>\n",
       "</table>\n",
       "</div>"
      ],
      "text/plain": [
       "   user_id  predicted_age  predicted_gender\n",
       "0        1              1                 1\n",
       "1        2              5                 0\n",
       "2        3              8                 1"
      ]
     },
     "execution_count": 5,
     "metadata": {},
     "output_type": "execute_result"
    }
   ],
   "source": [
    "test_uid = np.array([1, 2, 3])\n",
    "test_age_predict = np.array([1, 5, 8])\n",
    "test_gender_predict = np.array([1, 0, 1])\n",
    "result = pd.DataFrame({\"user_id\": test_uid, \"predicted_age\": test_age_predict, \"predicted_gender\": test_gender_predict})\n",
    "result"
   ]
  }
 ],
 "metadata": {
  "kernelspec": {
   "display_name": "Python 3",
   "language": "python",
   "name": "python3"
  },
  "language_info": {
   "codemirror_mode": {
    "name": "ipython",
    "version": 3
   },
   "file_extension": ".py",
   "mimetype": "text/x-python",
   "name": "python",
   "nbconvert_exporter": "python",
   "pygments_lexer": "ipython3",
   "version": "3.7.4"
  }
 },
 "nbformat": 4,
 "nbformat_minor": 4
}

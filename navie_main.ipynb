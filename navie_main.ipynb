{
 "cells": [
  {
   "cell_type": "code",
   "execution_count": 1,
   "metadata": {},
   "outputs": [],
   "source": [
    "from IPython.core.interactiveshell import InteractiveShell\n",
    "InteractiveShell.ast_node_interactivity = \"all\" "
   ]
  },
  {
   "cell_type": "code",
   "execution_count": 6,
   "metadata": {},
   "outputs": [],
   "source": [
    "import os\n",
    "import sys\n",
    "import pandas as pd\n",
    "import numpy as np\n",
    "from sklearn.model_selection import train_test_split"
   ]
  },
  {
   "cell_type": "code",
   "execution_count": 4,
   "metadata": {},
   "outputs": [],
   "source": [
    "train_root = \"dataset/train/\"\n",
    "train_user_path = os.path.join(train_root, \"user.csv\")\n",
    "train_ad_path = os.path.join(train_root, \"ad.csv\")\n",
    "train_click_path = os.path.join(train_root, \"click_log.csv\")\n",
    "\n",
    "test_root = \"dataset/test/\"\n",
    "test_ad_path = os.path.join(test_root, \"ad.csv\")\n",
    "test_click_path = os.path.join(test_root, \"click_log.csv\")"
   ]
  },
  {
   "cell_type": "code",
   "execution_count": 5,
   "metadata": {},
   "outputs": [],
   "source": [
    "train_ad = pd.read_csv(train_ad_path, na_values=\"\\\\N\")\n",
    "train_click = pd.read_csv(train_click_path, na_values=\"\\\\N\")\n",
    "train_user = pd.read_csv(train_user_path, na_values=\"\\\\N\")\n",
    "\n",
    "test_ad = pd.read_csv(test_ad_path, na_values=\"\\\\N\")\n",
    "test_click = pd.read_csv(test_click_path, na_values=\"\\\\N\")"
   ]
  },
  {
   "cell_type": "code",
   "execution_count": 8,
   "metadata": {},
   "outputs": [],
   "source": [
    "train_click, valid_click = train_test_split(train_click, test_size=0.33) #1/3 的验证集"
   ]
  },
  {
   "cell_type": "code",
   "execution_count": null,
   "metadata": {},
   "outputs": [],
   "source": []
  },
  {
   "cell_type": "code",
   "execution_count": 13,
   "metadata": {},
   "outputs": [
    {
     "data": {
      "text/plain": [
       "array([3000001, 3000002, 3000003, ..., 3999998, 3999999, 4000000],\n",
       "      dtype=int64)"
      ]
     },
     "execution_count": 13,
     "metadata": {},
     "output_type": "execute_result"
    }
   ],
   "source": [
    "test_user_id = test_click[\"user_id\"].unique()\n",
    "test_user_id.sort()\n",
    "test_user_id"
   ]
  },
  {
   "cell_type": "code",
   "execution_count": 21,
   "metadata": {},
   "outputs": [],
   "source": [
    "def fill_g1_a3_prediction():\n",
    "    prediction = pd.DataFrame(test_user_id, columns=[\"user_id\"])\n",
    "    prediction[\"predicted_age\"] = 3\n",
    "    prediction[\"predicted_gender\"] = 1\n",
    "    return prediction"
   ]
  },
  {
   "cell_type": "code",
   "execution_count": 23,
   "metadata": {},
   "outputs": [],
   "source": [
    "prediction = fill_g1_a3_prediction()\n",
    "prediction.to_csv(\"navie_fill_prediction.csv\", index=False)"
   ]
  },
  {
   "cell_type": "code",
   "execution_count": null,
   "metadata": {},
   "outputs": [],
   "source": []
  }
 ],
 "metadata": {
  "kernelspec": {
   "display_name": "Python 3",
   "language": "python",
   "name": "python3"
  },
  "language_info": {
   "codemirror_mode": {
    "name": "ipython",
    "version": 3
   },
   "file_extension": ".py",
   "mimetype": "text/x-python",
   "name": "python",
   "nbconvert_exporter": "python",
   "pygments_lexer": "ipython3",
   "version": "3.7.6"
  }
 },
 "nbformat": 4,
 "nbformat_minor": 4
}

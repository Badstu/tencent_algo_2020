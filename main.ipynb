{
 "cells": [
  {
   "cell_type": "code",
   "execution_count": null,
   "metadata": {},
   "outputs": [],
   "source": [
    "# http://www.imooc.com/article/43784"
   ]
  },
  {
   "cell_type": "code",
   "execution_count": 1,
   "metadata": {},
   "outputs": [],
   "source": [
    "from IPython.core.interactiveshell import InteractiveShell\n",
    "InteractiveShell.ast_node_interactivity = \"all\" \n",
    "\n",
    "import data\n",
    "import lightgbm as lgb\n",
    "import numpy as np\n",
    "import os\n",
    "import sys\n",
    "import re\n",
    "import pandas as pd\n",
    "import matplotlib\n",
    "from tqdm import tqdm\n",
    "from sklearn.model_selection import train_test_split\n",
    "from sklearn.datasets import load_iris\n",
    "from sklearn.metrics import mean_squared_error, roc_auc_score, accuracy_score\n",
    "from gensim.models import word2vec, keyedvectors\n",
    "import logging\n",
    "\n",
    "from model import lgb_model\n",
    "\n",
    "%matplotlib inline\n",
    "logging.basicConfig(format='%(asctime)s : %(levelname)s : %(message)s', level=logging.INFO)"
   ]
  },
  {
   "cell_type": "code",
   "execution_count": 2,
   "metadata": {},
   "outputs": [
    {
     "name": "stderr",
     "output_type": "stream",
     "text": [
      "2020-06-03 02:53:37,558 : INFO : loading projection weights from checkpoints/creative_model.w2v\n",
      "2020-06-03 02:54:05,066 : INFO : loaded (3412772, 200) matrix from checkpoints/creative_model.w2v\n",
      "2020-06-03 02:54:05,067 : INFO : loading projection weights from checkpoints/ad_model.w2v\n",
      "2020-06-03 02:54:30,774 : INFO : loaded (3027360, 200) matrix from checkpoints/ad_model.w2v\n",
      "2020-06-03 02:54:30,775 : INFO : loading projection weights from checkpoints/product_model.w2v\n",
      "2020-06-03 02:54:31,500 : INFO : loaded (39056, 200) matrix from checkpoints/product_model.w2v\n",
      "2020-06-03 02:54:31,501 : INFO : loading projection weights from checkpoints/advertiser_model.w2v\n",
      "2020-06-03 02:54:31,919 : INFO : loaded (57870, 100) matrix from checkpoints/advertiser_model.w2v\n",
      "2020-06-03 02:54:31,920 : INFO : loading projection weights from checkpoints/industry_model.w2v\n",
      "2020-06-03 02:54:32,060 : INFO : loaded (331, 100) matrix from checkpoints/industry_model.w2v\n"
     ]
    }
   ],
   "source": [
    "creative_model = keyedvectors.KeyedVectors.load_word2vec_format(\"checkpoints/creative_model.w2v\", binary=True)\n",
    "ad_model = keyedvectors.KeyedVectors.load_word2vec_format(\"checkpoints/ad_model.w2v\", binary=True)\n",
    "product_model = keyedvectors.KeyedVectors.load_word2vec_format(\"checkpoints/product_model.w2v\", binary=True)\n",
    "advertiser_model = keyedvectors.KeyedVectors.load_word2vec_format(\"checkpoints/advertiser_model.w2v\", binary=True)\n",
    "industry_model = keyedvectors.KeyedVectors.load_word2vec_format(\"checkpoints/industry_model.w2v\", binary=True)"
   ]
  },
  {
   "cell_type": "code",
   "execution_count": 3,
   "metadata": {},
   "outputs": [],
   "source": [
    "train_ad, train_click, train_user, test_ad, test_click = data.load_data()\n",
    "# train_user, valid_user = train_test_split(train_user, test_size=0.33, random_state=42)\n",
    "# train_record = data.get_part_click(train_click, train_user)\n",
    "# valid_record = data.get_part_click(train_click, valid_user)\n",
    "\n",
    "# train_record\n",
    "train_record = pd.merge(train_click, train_ad, on=\"creative_id\")\n",
    "# test_record\n",
    "test_record = pd.merge(test_click, test_ad, on=\"creative_id\")"
   ]
  },
  {
   "cell_type": "code",
   "execution_count": 54,
   "metadata": {},
   "outputs": [
    {
     "data": {
      "text/html": [
       "<div>\n",
       "<style scoped>\n",
       "    .dataframe tbody tr th:only-of-type {\n",
       "        vertical-align: middle;\n",
       "    }\n",
       "\n",
       "    .dataframe tbody tr th {\n",
       "        vertical-align: top;\n",
       "    }\n",
       "\n",
       "    .dataframe thead th {\n",
       "        text-align: right;\n",
       "    }\n",
       "</style>\n",
       "<table border=\"1\" class=\"dataframe\">\n",
       "  <thead>\n",
       "    <tr style=\"text-align: right;\">\n",
       "      <th></th>\n",
       "      <th>time</th>\n",
       "      <th>creative_id</th>\n",
       "      <th>click_times</th>\n",
       "      <th>ad_id</th>\n",
       "      <th>product_id</th>\n",
       "      <th>product_category</th>\n",
       "      <th>advertiser_id</th>\n",
       "      <th>industry</th>\n",
       "    </tr>\n",
       "    <tr>\n",
       "      <th>user_id</th>\n",
       "      <th></th>\n",
       "      <th></th>\n",
       "      <th></th>\n",
       "      <th></th>\n",
       "      <th></th>\n",
       "      <th></th>\n",
       "      <th></th>\n",
       "      <th></th>\n",
       "    </tr>\n",
       "  </thead>\n",
       "  <tbody>\n",
       "    <tr>\n",
       "      <th>1</th>\n",
       "      <td>13</td>\n",
       "      <td>13</td>\n",
       "      <td>13</td>\n",
       "      <td>13</td>\n",
       "      <td>6</td>\n",
       "      <td>13</td>\n",
       "      <td>13</td>\n",
       "      <td>12</td>\n",
       "    </tr>\n",
       "    <tr>\n",
       "      <th>2</th>\n",
       "      <td>45</td>\n",
       "      <td>45</td>\n",
       "      <td>45</td>\n",
       "      <td>45</td>\n",
       "      <td>31</td>\n",
       "      <td>45</td>\n",
       "      <td>45</td>\n",
       "      <td>45</td>\n",
       "    </tr>\n",
       "    <tr>\n",
       "      <th>3</th>\n",
       "      <td>30</td>\n",
       "      <td>30</td>\n",
       "      <td>30</td>\n",
       "      <td>30</td>\n",
       "      <td>20</td>\n",
       "      <td>30</td>\n",
       "      <td>30</td>\n",
       "      <td>22</td>\n",
       "    </tr>\n",
       "    <tr>\n",
       "      <th>4</th>\n",
       "      <td>29</td>\n",
       "      <td>29</td>\n",
       "      <td>29</td>\n",
       "      <td>29</td>\n",
       "      <td>23</td>\n",
       "      <td>29</td>\n",
       "      <td>29</td>\n",
       "      <td>20</td>\n",
       "    </tr>\n",
       "    <tr>\n",
       "      <th>5</th>\n",
       "      <td>33</td>\n",
       "      <td>33</td>\n",
       "      <td>33</td>\n",
       "      <td>33</td>\n",
       "      <td>11</td>\n",
       "      <td>33</td>\n",
       "      <td>33</td>\n",
       "      <td>32</td>\n",
       "    </tr>\n",
       "    <tr>\n",
       "      <th>...</th>\n",
       "      <td>...</td>\n",
       "      <td>...</td>\n",
       "      <td>...</td>\n",
       "      <td>...</td>\n",
       "      <td>...</td>\n",
       "      <td>...</td>\n",
       "      <td>...</td>\n",
       "      <td>...</td>\n",
       "    </tr>\n",
       "    <tr>\n",
       "      <th>899996</th>\n",
       "      <td>14</td>\n",
       "      <td>14</td>\n",
       "      <td>14</td>\n",
       "      <td>14</td>\n",
       "      <td>5</td>\n",
       "      <td>14</td>\n",
       "      <td>14</td>\n",
       "      <td>14</td>\n",
       "    </tr>\n",
       "    <tr>\n",
       "      <th>899997</th>\n",
       "      <td>18</td>\n",
       "      <td>18</td>\n",
       "      <td>18</td>\n",
       "      <td>18</td>\n",
       "      <td>15</td>\n",
       "      <td>18</td>\n",
       "      <td>18</td>\n",
       "      <td>18</td>\n",
       "    </tr>\n",
       "    <tr>\n",
       "      <th>899998</th>\n",
       "      <td>14</td>\n",
       "      <td>14</td>\n",
       "      <td>14</td>\n",
       "      <td>14</td>\n",
       "      <td>4</td>\n",
       "      <td>14</td>\n",
       "      <td>14</td>\n",
       "      <td>11</td>\n",
       "    </tr>\n",
       "    <tr>\n",
       "      <th>899999</th>\n",
       "      <td>22</td>\n",
       "      <td>22</td>\n",
       "      <td>22</td>\n",
       "      <td>22</td>\n",
       "      <td>7</td>\n",
       "      <td>22</td>\n",
       "      <td>22</td>\n",
       "      <td>20</td>\n",
       "    </tr>\n",
       "    <tr>\n",
       "      <th>900000</th>\n",
       "      <td>12</td>\n",
       "      <td>12</td>\n",
       "      <td>12</td>\n",
       "      <td>12</td>\n",
       "      <td>1</td>\n",
       "      <td>12</td>\n",
       "      <td>12</td>\n",
       "      <td>12</td>\n",
       "    </tr>\n",
       "  </tbody>\n",
       "</table>\n",
       "<p>900000 rows × 8 columns</p>\n",
       "</div>"
      ],
      "text/plain": [
       "         time  creative_id  click_times  ad_id  product_id  product_category  \\\n",
       "user_id                                                                        \n",
       "1          13           13           13     13           6                13   \n",
       "2          45           45           45     45          31                45   \n",
       "3          30           30           30     30          20                30   \n",
       "4          29           29           29     29          23                29   \n",
       "5          33           33           33     33          11                33   \n",
       "...       ...          ...          ...    ...         ...               ...   \n",
       "899996     14           14           14     14           5                14   \n",
       "899997     18           18           18     18          15                18   \n",
       "899998     14           14           14     14           4                14   \n",
       "899999     22           22           22     22           7                22   \n",
       "900000     12           12           12     12           1                12   \n",
       "\n",
       "         advertiser_id  industry  \n",
       "user_id                           \n",
       "1                   13        12  \n",
       "2                   45        45  \n",
       "3                   30        22  \n",
       "4                   29        20  \n",
       "5                   33        32  \n",
       "...                ...       ...  \n",
       "899996              14        14  \n",
       "899997              18        18  \n",
       "899998              14        11  \n",
       "899999              22        20  \n",
       "900000              12        12  \n",
       "\n",
       "[900000 rows x 8 columns]"
      ]
     },
     "execution_count": 54,
     "metadata": {},
     "output_type": "execute_result"
    }
   ],
   "source": [
    "train_record.groupby(\"user_id\").count()"
   ]
  },
  {
   "cell_type": "code",
   "execution_count": 4,
   "metadata": {},
   "outputs": [],
   "source": [
    "# train_features, train_age, train_gender = data.split_feature_target(train_record, keep_user=True)\n",
    "# valid_features, valid_age, valid_gender = data.split_feature_target(train_record, keep_user=True)"
   ]
  },
  {
   "cell_type": "code",
   "execution_count": 5,
   "metadata": {},
   "outputs": [
    {
     "data": {
      "text/html": [
       "<div>\n",
       "<style scoped>\n",
       "    .dataframe tbody tr th:only-of-type {\n",
       "        vertical-align: middle;\n",
       "    }\n",
       "\n",
       "    .dataframe tbody tr th {\n",
       "        vertical-align: top;\n",
       "    }\n",
       "\n",
       "    .dataframe thead th {\n",
       "        text-align: right;\n",
       "    }\n",
       "</style>\n",
       "<table border=\"1\" class=\"dataframe\">\n",
       "  <thead>\n",
       "    <tr style=\"text-align: right;\">\n",
       "      <th></th>\n",
       "      <th>time</th>\n",
       "      <th>user_id</th>\n",
       "      <th>creative_id</th>\n",
       "      <th>click_times</th>\n",
       "      <th>ad_id</th>\n",
       "      <th>product_id</th>\n",
       "      <th>product_category</th>\n",
       "      <th>advertiser_id</th>\n",
       "      <th>industry</th>\n",
       "    </tr>\n",
       "  </thead>\n",
       "  <tbody>\n",
       "    <tr>\n",
       "      <th>0</th>\n",
       "      <td>9</td>\n",
       "      <td>30920</td>\n",
       "      <td>567330</td>\n",
       "      <td>1</td>\n",
       "      <td>504423</td>\n",
       "      <td>30673.0</td>\n",
       "      <td>3</td>\n",
       "      <td>32638</td>\n",
       "      <td>319.0</td>\n",
       "    </tr>\n",
       "    <tr>\n",
       "      <th>1</th>\n",
       "      <td>15</td>\n",
       "      <td>320815</td>\n",
       "      <td>567330</td>\n",
       "      <td>1</td>\n",
       "      <td>504423</td>\n",
       "      <td>30673.0</td>\n",
       "      <td>3</td>\n",
       "      <td>32638</td>\n",
       "      <td>319.0</td>\n",
       "    </tr>\n",
       "    <tr>\n",
       "      <th>2</th>\n",
       "      <td>11</td>\n",
       "      <td>355089</td>\n",
       "      <td>567330</td>\n",
       "      <td>1</td>\n",
       "      <td>504423</td>\n",
       "      <td>30673.0</td>\n",
       "      <td>3</td>\n",
       "      <td>32638</td>\n",
       "      <td>319.0</td>\n",
       "    </tr>\n",
       "    <tr>\n",
       "      <th>3</th>\n",
       "      <td>9</td>\n",
       "      <td>363442</td>\n",
       "      <td>567330</td>\n",
       "      <td>1</td>\n",
       "      <td>504423</td>\n",
       "      <td>30673.0</td>\n",
       "      <td>3</td>\n",
       "      <td>32638</td>\n",
       "      <td>319.0</td>\n",
       "    </tr>\n",
       "    <tr>\n",
       "      <th>4</th>\n",
       "      <td>14</td>\n",
       "      <td>370513</td>\n",
       "      <td>567330</td>\n",
       "      <td>1</td>\n",
       "      <td>504423</td>\n",
       "      <td>30673.0</td>\n",
       "      <td>3</td>\n",
       "      <td>32638</td>\n",
       "      <td>319.0</td>\n",
       "    </tr>\n",
       "    <tr>\n",
       "      <th>...</th>\n",
       "      <td>...</td>\n",
       "      <td>...</td>\n",
       "      <td>...</td>\n",
       "      <td>...</td>\n",
       "      <td>...</td>\n",
       "      <td>...</td>\n",
       "      <td>...</td>\n",
       "      <td>...</td>\n",
       "      <td>...</td>\n",
       "    </tr>\n",
       "    <tr>\n",
       "      <th>995</th>\n",
       "      <td>61</td>\n",
       "      <td>325322</td>\n",
       "      <td>2361327</td>\n",
       "      <td>1</td>\n",
       "      <td>2035918</td>\n",
       "      <td>1261.0</td>\n",
       "      <td>2</td>\n",
       "      <td>6783</td>\n",
       "      <td>6.0</td>\n",
       "    </tr>\n",
       "    <tr>\n",
       "      <th>996</th>\n",
       "      <td>57</td>\n",
       "      <td>325322</td>\n",
       "      <td>2361327</td>\n",
       "      <td>1</td>\n",
       "      <td>2035918</td>\n",
       "      <td>1261.0</td>\n",
       "      <td>2</td>\n",
       "      <td>6783</td>\n",
       "      <td>6.0</td>\n",
       "    </tr>\n",
       "    <tr>\n",
       "      <th>997</th>\n",
       "      <td>69</td>\n",
       "      <td>32552</td>\n",
       "      <td>2361327</td>\n",
       "      <td>1</td>\n",
       "      <td>2035918</td>\n",
       "      <td>1261.0</td>\n",
       "      <td>2</td>\n",
       "      <td>6783</td>\n",
       "      <td>6.0</td>\n",
       "    </tr>\n",
       "    <tr>\n",
       "      <th>998</th>\n",
       "      <td>53</td>\n",
       "      <td>32552</td>\n",
       "      <td>2361327</td>\n",
       "      <td>1</td>\n",
       "      <td>2035918</td>\n",
       "      <td>1261.0</td>\n",
       "      <td>2</td>\n",
       "      <td>6783</td>\n",
       "      <td>6.0</td>\n",
       "    </tr>\n",
       "    <tr>\n",
       "      <th>999</th>\n",
       "      <td>50</td>\n",
       "      <td>32700</td>\n",
       "      <td>2361327</td>\n",
       "      <td>1</td>\n",
       "      <td>2035918</td>\n",
       "      <td>1261.0</td>\n",
       "      <td>2</td>\n",
       "      <td>6783</td>\n",
       "      <td>6.0</td>\n",
       "    </tr>\n",
       "  </tbody>\n",
       "</table>\n",
       "<p>1000 rows × 9 columns</p>\n",
       "</div>"
      ],
      "text/plain": [
       "     time  user_id  creative_id  click_times    ad_id  product_id  \\\n",
       "0       9    30920       567330            1   504423     30673.0   \n",
       "1      15   320815       567330            1   504423     30673.0   \n",
       "2      11   355089       567330            1   504423     30673.0   \n",
       "3       9   363442       567330            1   504423     30673.0   \n",
       "4      14   370513       567330            1   504423     30673.0   \n",
       "..    ...      ...          ...          ...      ...         ...   \n",
       "995    61   325322      2361327            1  2035918      1261.0   \n",
       "996    57   325322      2361327            1  2035918      1261.0   \n",
       "997    69    32552      2361327            1  2035918      1261.0   \n",
       "998    53    32552      2361327            1  2035918      1261.0   \n",
       "999    50    32700      2361327            1  2035918      1261.0   \n",
       "\n",
       "     product_category  advertiser_id  industry  \n",
       "0                   3          32638     319.0  \n",
       "1                   3          32638     319.0  \n",
       "2                   3          32638     319.0  \n",
       "3                   3          32638     319.0  \n",
       "4                   3          32638     319.0  \n",
       "..                ...            ...       ...  \n",
       "995                 2           6783       6.0  \n",
       "996                 2           6783       6.0  \n",
       "997                 2           6783       6.0  \n",
       "998                 2           6783       6.0  \n",
       "999                 2           6783       6.0  \n",
       "\n",
       "[1000 rows x 9 columns]"
      ]
     },
     "execution_count": 5,
     "metadata": {},
     "output_type": "execute_result"
    }
   ],
   "source": [
    "sample_record = train_record[:1000]\n",
    "sample_record\n",
    "\n",
    "# TODO train embedding\n",
    "train_grouped = sample_record.groupby(\"user_id\")"
   ]
  },
  {
   "cell_type": "code",
   "execution_count": 6,
   "metadata": {},
   "outputs": [],
   "source": [
    "def get_embedding_from_grouped(user_id, records, column_name, keep_uid=False):\n",
    "    if column_name == \"ad_id\":\n",
    "        model = ad_model\n",
    "    elif column_name == \"creative_id\":\n",
    "        model = creative_model\n",
    "    elif column_name == \"industry\":\n",
    "        model = industry_model\n",
    "    elif column_name == \"product_id\":\n",
    "        model = product_model\n",
    "    elif column_name == \"advertiser_id\":\n",
    "        model = advertiser_model\n",
    "    \n",
    "    if column_name == \"industry\":\n",
    "        embedding = records[column_name].apply(lambda x: np.zeros(100, ) if pd.isnull(x) else model[str(int(x))]).apply(pd.Series)\n",
    "    elif column_name == \"product_id\":\n",
    "        embedding = records[column_name].apply(lambda x: np.zeros(200, ) if pd.isnull(x) else model[str(int(x))]).apply(pd.Series)\n",
    "    else:\n",
    "        embedding = records[column_name].apply(lambda x: model[str(x)]).apply(pd.Series)\n",
    "    embedding = embedding.mean()\n",
    "    \n",
    "    if keep_uid:\n",
    "        embedding.insert(0, \"user_id\", user_id)\n",
    "    return embedding"
   ]
  },
  {
   "cell_type": "code",
   "execution_count": 58,
   "metadata": {},
   "outputs": [],
   "source": [
    "def total_embed(grouped, data_type=\"train\"):\n",
    "    id = 1\n",
    "    flag = 0\n",
    "    if data_type == \"train\":\n",
    "        f = open(\"embed/train/train_embedding{}.csv\".format(id), \"w\")\n",
    "    else:\n",
    "        f = open(\"embed/test/test_embedding{}.csv\".format(id), \"w\")\n",
    "    for user_id, records in tqdm(grouped):\n",
    "        records = records.sort_values(by=\"time\")\n",
    "\n",
    "        # ad_embedding\n",
    "        ad_embedding = get_embedding_from_grouped(user_id, records, column_name=\"ad_id\")\n",
    "        #creative_embedding\n",
    "        creative_embedding = get_embedding_from_grouped(user_id, records, column_name=\"creative_id\")\n",
    "        #product_embedding\n",
    "        product_embedding = get_embedding_from_grouped(user_id, records, column_name=\"product_id\")\n",
    "        #advertiser_embedding\n",
    "        advertiser_embedding = get_embedding_from_grouped(user_id, records, column_name=\"advertiser_id\")\n",
    "        #industry_embedding\n",
    "        industry_embedding = get_embedding_from_grouped(user_id, records, column_name=\"industry\")\n",
    "\n",
    "        embed_features = np.concatenate([ad_embedding, creative_embedding, product_embedding, advertiser_embedding, industry_embedding])\n",
    "        '''\n",
    "        左开右闭，下标从0开始\n",
    "        0: userid\n",
    "        [1:201]: ad_embedding\n",
    "        [201:401]: creative_embedding\n",
    "        [401:601]: product_embedding\n",
    "        [601:701]: advertiser_embedding\n",
    "        [701:801]: industry_embedding\n",
    "        '''\n",
    "        f.write(str(user_id) + ', ' + str(list(embed_features))[1:-1] + '\\n')\n",
    "\n",
    "        flag += 1\n",
    "        if flag % 100 == 0:\n",
    "            f.close()\n",
    "            id += 1\n",
    "            if data_type == \"train\":\n",
    "                f = open(\"embed/train/train_embedding{}.csv\".format(id), \"w\")\n",
    "            else:\n",
    "                f = open(\"embed/test/test_embedding{}.csv\".format(id), \"w\")\n",
    "    f.close()"
   ]
  },
  {
   "cell_type": "code",
   "execution_count": null,
   "metadata": {},
   "outputs": [],
   "source": [
    "total_embed(train_grouped, data_type=\"train\")"
   ]
  },
  {
   "cell_type": "code",
   "execution_count": 32,
   "metadata": {},
   "outputs": [],
   "source": [
    "def place_zero(value):\n",
    "    matched = value.group()\n",
    "    return matched[0] + \", \" + matched[2]"
   ]
  },
  {
   "cell_type": "code",
   "execution_count": 12,
   "metadata": {
    "collapsed": true,
    "jupyter": {
     "outputs_hidden": true
    }
   },
   "outputs": [
    {
     "name": "stdout",
     "output_type": "stream",
     "text": [
      "0\n"
     ]
    },
    {
     "name": "stderr",
     "output_type": "stream",
     "text": [
      "100%|██████████| 45000/45000 [00:22<00:00, 1957.82it/s]\n"
     ]
    },
    {
     "name": "stdout",
     "output_type": "stream",
     "text": [
      "1\n"
     ]
    },
    {
     "name": "stderr",
     "output_type": "stream",
     "text": [
      "100%|██████████| 45000/45000 [00:22<00:00, 1980.31it/s]\n"
     ]
    },
    {
     "name": "stdout",
     "output_type": "stream",
     "text": [
      "2\n"
     ]
    },
    {
     "name": "stderr",
     "output_type": "stream",
     "text": [
      "100%|██████████| 45000/45000 [00:22<00:00, 2006.73it/s]\n"
     ]
    },
    {
     "name": "stdout",
     "output_type": "stream",
     "text": [
      "3\n"
     ]
    },
    {
     "name": "stderr",
     "output_type": "stream",
     "text": [
      "100%|██████████| 45000/45000 [00:22<00:00, 2039.23it/s]\n"
     ]
    },
    {
     "name": "stdout",
     "output_type": "stream",
     "text": [
      "4\n"
     ]
    },
    {
     "name": "stderr",
     "output_type": "stream",
     "text": [
      "100%|██████████| 45000/45000 [00:22<00:00, 2009.51it/s]\n"
     ]
    },
    {
     "name": "stdout",
     "output_type": "stream",
     "text": [
      "5\n"
     ]
    },
    {
     "name": "stderr",
     "output_type": "stream",
     "text": [
      "100%|██████████| 45000/45000 [00:22<00:00, 2014.63it/s]\n"
     ]
    },
    {
     "name": "stdout",
     "output_type": "stream",
     "text": [
      "6\n"
     ]
    },
    {
     "name": "stderr",
     "output_type": "stream",
     "text": [
      "100%|██████████| 45000/45000 [00:22<00:00, 2016.28it/s]\n"
     ]
    },
    {
     "name": "stdout",
     "output_type": "stream",
     "text": [
      "7\n"
     ]
    },
    {
     "name": "stderr",
     "output_type": "stream",
     "text": [
      "100%|██████████| 45000/45000 [00:22<00:00, 2025.34it/s]\n"
     ]
    },
    {
     "name": "stdout",
     "output_type": "stream",
     "text": [
      "8\n"
     ]
    },
    {
     "name": "stderr",
     "output_type": "stream",
     "text": [
      "100%|██████████| 45000/45000 [00:22<00:00, 2032.74it/s]\n"
     ]
    },
    {
     "name": "stdout",
     "output_type": "stream",
     "text": [
      "9\n"
     ]
    },
    {
     "name": "stderr",
     "output_type": "stream",
     "text": [
      "100%|██████████| 45000/45000 [00:22<00:00, 2006.88it/s]\n"
     ]
    },
    {
     "name": "stdout",
     "output_type": "stream",
     "text": [
      "10\n"
     ]
    },
    {
     "name": "stderr",
     "output_type": "stream",
     "text": [
      "100%|██████████| 45000/45000 [00:22<00:00, 2023.38it/s]\n"
     ]
    },
    {
     "name": "stdout",
     "output_type": "stream",
     "text": [
      "11\n"
     ]
    },
    {
     "name": "stderr",
     "output_type": "stream",
     "text": [
      "100%|██████████| 45000/45000 [00:22<00:00, 1996.56it/s]\n"
     ]
    },
    {
     "name": "stdout",
     "output_type": "stream",
     "text": [
      "12\n"
     ]
    },
    {
     "name": "stderr",
     "output_type": "stream",
     "text": [
      "100%|██████████| 45000/45000 [00:22<00:00, 2009.72it/s]\n"
     ]
    },
    {
     "name": "stdout",
     "output_type": "stream",
     "text": [
      "13\n"
     ]
    },
    {
     "name": "stderr",
     "output_type": "stream",
     "text": [
      "100%|██████████| 45000/45000 [00:22<00:00, 2017.91it/s]\n"
     ]
    },
    {
     "name": "stdout",
     "output_type": "stream",
     "text": [
      "14\n"
     ]
    },
    {
     "name": "stderr",
     "output_type": "stream",
     "text": [
      "100%|██████████| 45000/45000 [00:22<00:00, 2018.59it/s]\n"
     ]
    },
    {
     "name": "stdout",
     "output_type": "stream",
     "text": [
      "15\n"
     ]
    },
    {
     "name": "stderr",
     "output_type": "stream",
     "text": [
      "100%|██████████| 45000/45000 [00:22<00:00, 2011.08it/s]\n"
     ]
    },
    {
     "name": "stdout",
     "output_type": "stream",
     "text": [
      "16\n"
     ]
    },
    {
     "name": "stderr",
     "output_type": "stream",
     "text": [
      "100%|██████████| 45000/45000 [00:22<00:00, 1999.76it/s]\n"
     ]
    },
    {
     "name": "stdout",
     "output_type": "stream",
     "text": [
      "17\n"
     ]
    },
    {
     "name": "stderr",
     "output_type": "stream",
     "text": [
      "100%|██████████| 45000/45000 [00:22<00:00, 2000.01it/s]\n"
     ]
    },
    {
     "name": "stdout",
     "output_type": "stream",
     "text": [
      "18\n"
     ]
    },
    {
     "name": "stderr",
     "output_type": "stream",
     "text": [
      "100%|██████████| 10000/10000 [00:04<00:00, 2001.23it/s]\n"
     ]
    },
    {
     "name": "stdout",
     "output_type": "stream",
     "text": [
      "19\n"
     ]
    },
    {
     "name": "stderr",
     "output_type": "stream",
     "text": [
      "100%|██████████| 45000/45000 [00:23<00:00, 1926.05it/s]\n"
     ]
    },
    {
     "name": "stdout",
     "output_type": "stream",
     "text": [
      "20\n"
     ]
    },
    {
     "name": "stderr",
     "output_type": "stream",
     "text": [
      "100%|██████████| 45000/45000 [00:22<00:00, 2012.33it/s]\n"
     ]
    },
    {
     "name": "stdout",
     "output_type": "stream",
     "text": [
      "21\n"
     ]
    },
    {
     "name": "stderr",
     "output_type": "stream",
     "text": [
      "100%|██████████| 45000/45000 [00:22<00:00, 1999.56it/s]\n"
     ]
    },
    {
     "name": "stdout",
     "output_type": "stream",
     "text": [
      "22\n"
     ]
    },
    {
     "name": "stderr",
     "output_type": "stream",
     "text": [
      "100%|██████████| 45000/45000 [00:21<00:00, 2134.02it/s]\n"
     ]
    }
   ],
   "source": [
    "root_path = \"embed/test/\"\n",
    "\n",
    "files = (os.listdir(root_path))\n",
    "if \".ipynb_checkpoints\" in files:\n",
    "    files.remove(\".ipynb_checkpoints\")\n",
    "if \"test_embedding_all.csv\" in files:\n",
    "    files.remove(\"test_embedding_all.csv\")\n",
    "files = [root_path + i for i in files]\n",
    "\n",
    "with open(root_path + \"test_embedding_all.csv\", \"w\") as ff:\n",
    "    for ii, file in enumerate(files):\n",
    "        print(ii)\n",
    "        f = open(file, \"r\")\n",
    "        persons = f.readlines()\n",
    "        for p in tqdm(persons):\n",
    "            p1 = re.sub(r'\\d\\s\\d', place_zero, p)\n",
    "            t = ff.write(p1)\n",
    "        f.close()"
   ]
  },
  {
   "cell_type": "code",
   "execution_count": 33,
   "metadata": {},
   "outputs": [
    {
     "name": "stdout",
     "output_type": "stream",
     "text": [
      "3\n"
     ]
    }
   ],
   "source": [
    "a = re.search(r'\\d\\s-', p)\n",
    "print(len(a.group()))"
   ]
  },
  {
   "cell_type": "code",
   "execution_count": 34,
   "metadata": {},
   "outputs": [
    {
     "name": "stderr",
     "output_type": "stream",
     "text": [
      "100%|██████████| 900000/900000 [08:29<00:00, 1767.54it/s]\n"
     ]
    }
   ],
   "source": [
    "# root_path = \"embed/train/\"\n",
    "# i_file = root_path + \"train_embedding_all.csv\"\n",
    "# o_file = root_path + \"train_embedding_all_1.csv\"\n",
    "\n",
    "root_path = \"embed/test/\"\n",
    "i_file = root_path + \"test_embedding_all.csv\"\n",
    "o_file = root_path + \"test_embedding_all_1.csv\"\n",
    "\n",
    "with open(o_file, \"w\") as ff:\n",
    "    f = open(i_file, \"r\")\n",
    "    persons = f.readlines()\n",
    "    for p in tqdm(persons):\n",
    "        if re.search(r'\\d\\s-', p) != None:\n",
    "            p1 = re.sub(r'\\d\\s-', place_zero, p)\n",
    "            t = ff.write(p1)\n",
    "        else:\n",
    "            t = ff.write(p)\n",
    "    f.close()"
   ]
  },
  {
   "cell_type": "code",
   "execution_count": null,
   "metadata": {},
   "outputs": [],
   "source": []
  },
  {
   "cell_type": "code",
   "execution_count": null,
   "metadata": {},
   "outputs": [],
   "source": [
    "column_names = [\"creative_id\", \"ad_id\", \"product_id\", \"advertiser_id\", \"industry\"]\n",
    "w2v_models = [creative_model, ad_model, product_model, advertiser_model, industry_model]\n",
    "\n",
    "def transform_dataframe(train_features, column_names, w2v_models):\n",
    "    for column_name, w2v_model in zip(column_names, w2v_models):\n",
    "        print(column_name, \"START\")\n",
    "        if column_name == \"industry\":\n",
    "            embedding_df = train_features[column_name].apply(lambda x: np.zeros(100, ) if pd.isnull(x) else w2v_model[str(int(x))]).apply(pd.Series)\n",
    "        elif column_name == \"product_id\":\n",
    "            embedding_df = train_features[column_name].apply(lambda x: np.zeros(200, ) if pd.isnull(x) else w2v_model[str(int(x))]).apply(pd.Series)\n",
    "        else:\n",
    "            embedding_df = train_features[column_name].apply(lambda x: w2v_model[str(x)]).apply(pd.Series)\n",
    "        train_features = pd.concat([train_features, embedding_df], axis=1).drop(column_name, axis=1)\n",
    "        print(column_name, \"FINISH\")\n",
    "    train_features.to_csv(\"main_features.csv\", index=False)\n",
    "    print(\"FINISH save csv!\")"
   ]
  },
  {
   "cell_type": "code",
   "execution_count": null,
   "metadata": {},
   "outputs": [],
   "source": [
    "train_df = pd.read_csv(\"embed/train/train_embedding_all_1.csv\", header=None)"
   ]
  },
  {
   "cell_type": "code",
   "execution_count": null,
   "metadata": {},
   "outputs": [],
   "source": [
    "train_df.head()"
   ]
  },
  {
   "cell_type": "code",
   "execution_count": 2,
   "metadata": {},
   "outputs": [
    {
     "data": {
      "text/plain": [
       "(900000, 801)"
      ]
     },
     "execution_count": 2,
     "metadata": {},
     "output_type": "execute_result"
    }
   ],
   "source": [
    "train_np = np.loadtxt(\"embed/train/train_embedding_all_1.csv\", delimiter=\", \")\n",
    "train_np.shape"
   ]
  },
  {
   "cell_type": "code",
   "execution_count": 13,
   "metadata": {},
   "outputs": [
    {
     "data": {
      "text/html": [
       "<div>\n",
       "<style scoped>\n",
       "    .dataframe tbody tr th:only-of-type {\n",
       "        vertical-align: middle;\n",
       "    }\n",
       "\n",
       "    .dataframe tbody tr th {\n",
       "        vertical-align: top;\n",
       "    }\n",
       "\n",
       "    .dataframe thead th {\n",
       "        text-align: right;\n",
       "    }\n",
       "</style>\n",
       "<table border=\"1\" class=\"dataframe\">\n",
       "  <thead>\n",
       "    <tr style=\"text-align: right;\">\n",
       "      <th></th>\n",
       "      <th>age</th>\n",
       "      <th>gender</th>\n",
       "    </tr>\n",
       "    <tr>\n",
       "      <th>user_id</th>\n",
       "      <th></th>\n",
       "      <th></th>\n",
       "    </tr>\n",
       "  </thead>\n",
       "  <tbody>\n",
       "    <tr>\n",
       "      <th>1</th>\n",
       "      <td>4</td>\n",
       "      <td>1</td>\n",
       "    </tr>\n",
       "    <tr>\n",
       "      <th>2</th>\n",
       "      <td>10</td>\n",
       "      <td>1</td>\n",
       "    </tr>\n",
       "    <tr>\n",
       "      <th>3</th>\n",
       "      <td>7</td>\n",
       "      <td>2</td>\n",
       "    </tr>\n",
       "    <tr>\n",
       "      <th>4</th>\n",
       "      <td>5</td>\n",
       "      <td>1</td>\n",
       "    </tr>\n",
       "    <tr>\n",
       "      <th>5</th>\n",
       "      <td>4</td>\n",
       "      <td>1</td>\n",
       "    </tr>\n",
       "  </tbody>\n",
       "</table>\n",
       "</div>"
      ],
      "text/plain": [
       "         age  gender\n",
       "user_id             \n",
       "1          4       1\n",
       "2         10       1\n",
       "3          7       2\n",
       "4          5       1\n",
       "5          4       1"
      ]
     },
     "execution_count": 13,
     "metadata": {},
     "output_type": "execute_result"
    },
    {
     "data": {
      "text/plain": [
       "(900000, 2)"
      ]
     },
     "execution_count": 13,
     "metadata": {},
     "output_type": "execute_result"
    }
   ],
   "source": [
    "train_root = \"dataset/train/\"\n",
    "train_user_path = os.path.join(train_root, \"user.csv\")\n",
    "train_user = pd.read_csv(train_user_path, index_col=\"user_id\")\n",
    "train_user.head()\n",
    "train_user.shape"
   ]
  },
  {
   "cell_type": "code",
   "execution_count": 49,
   "metadata": {},
   "outputs": [],
   "source": [
    "train_user_id = train_np[:, 0]\n",
    "uid = train_user_id.astype(int)\n",
    "train_age = train_user.loc[uid, \"age\"]\n",
    "train_gender = train_user.loc[uid, \"gender\"]"
   ]
  },
  {
   "cell_type": "code",
   "execution_count": 53,
   "metadata": {},
   "outputs": [],
   "source": [
    "train_features = train_np[:, 1:]\n",
    "train_age = train_age.values - 1\n",
    "train_gender = train_gender.values - 1"
   ]
  },
  {
   "cell_type": "code",
   "execution_count": 60,
   "metadata": {},
   "outputs": [],
   "source": [
    "train_features, valid_features,\\\n",
    "train_age, valid_age,\\\n",
    "train_gender, valid_gender = train_test_split(train_features, train_age, train_gender, test_size=0.33, random_state=42)"
   ]
  },
  {
   "cell_type": "code",
   "execution_count": 66,
   "metadata": {},
   "outputs": [
    {
     "data": {
      "text/plain": [
       "1526600"
      ]
     },
     "execution_count": 66,
     "metadata": {},
     "output_type": "execute_result"
    }
   ],
   "source": [
    "(train_np == 0).sum()"
   ]
  },
  {
   "cell_type": "code",
   "execution_count": 77,
   "metadata": {},
   "outputs": [],
   "source": [
    "# (train_np[:, 401:601] == 0).sum()\n",
    "# (train_np[:, 701:801] == 0).sum()\n",
    "train_np[train_np == 0] = np.nan"
   ]
  },
  {
   "cell_type": "code",
   "execution_count": null,
   "metadata": {},
   "outputs": [],
   "source": [
    "lgb_traindata_gender = lgb.Dataset(train_features, train_gender)\n",
    "lgb_traindata_age = lgb.Dataset(train_features, train_age)\n",
    "\n",
    "lgb_valdata_gender = lgb.Dataset(valid_features, valid_gender, reference=lgb_traindata_gender)\n",
    "lgb_valdata_age = lgb.Dataset(valid_features, valid_age, reference=lgb_traindata_age)"
   ]
  },
  {
   "cell_type": "markdown",
   "metadata": {},
   "source": [
    "# 性别模型的预测"
   ]
  },
  {
   "cell_type": "code",
   "execution_count": null,
   "metadata": {},
   "outputs": [],
   "source": [
    "gender_model = lgb_model(model_kind=\"gender\")\n",
    "gender_model.train(lgb_traindata_gender, lgb_valdata_gender)\n",
    "gender_model.save_model()"
   ]
  },
  {
   "cell_type": "code",
   "execution_count": null,
   "metadata": {},
   "outputs": [],
   "source": [
    "test_record = pd.merge(test_click, test_ad, on=\"creative_id\")"
   ]
  },
  {
   "cell_type": "code",
   "execution_count": null,
   "metadata": {},
   "outputs": [],
   "source": [
    "test_features = test_record.iloc[:, [0, 2, 3, 4, 5, 6, 7, 8]]\n",
    "test_features = test_features.values"
   ]
  },
  {
   "cell_type": "code",
   "execution_count": null,
   "metadata": {},
   "outputs": [],
   "source": [
    "test_pred = gender_model.predict(test_features)"
   ]
  },
  {
   "cell_type": "code",
   "execution_count": null,
   "metadata": {},
   "outputs": [],
   "source": [
    "test_pred"
   ]
  },
  {
   "cell_type": "code",
   "execution_count": 2,
   "metadata": {},
   "outputs": [
    {
     "data": {
      "text/plain": [
       "(1000000, 801)"
      ]
     },
     "execution_count": 2,
     "metadata": {},
     "output_type": "execute_result"
    }
   ],
   "source": [
    "test_np = np.loadtxt(\"embed/test/test_embedding_all_1.csv\", delimiter=\", \")\n",
    "test_np.shape"
   ]
  },
  {
   "cell_type": "code",
   "execution_count": 3,
   "metadata": {},
   "outputs": [
    {
     "name": "stdout",
     "output_type": "stream",
     "text": [
      "/home/sayhi/workspaces/tencent_algo_2020\n"
     ]
    }
   ],
   "source": [
    "cd tencent_algo_2020/"
   ]
  },
  {
   "cell_type": "code",
   "execution_count": 8,
   "metadata": {},
   "outputs": [
    {
     "name": "stdout",
     "output_type": "stream",
     "text": [
      "START loading train embedding and train user info\n",
      "FINISH load train_np, train_user\n",
      "===========================================================================\n",
      "START get train_features, train_age, train_gender, and random split train/valid data\n",
      "FINISH random split train/valid data\n",
      "===========================================================================\n",
      "START construct lgb train valid data\n",
      "FINISH construct lgb train valid data\n",
      "===========================================================================\n"
     ]
    }
   ],
   "source": [
    "import data\n",
    "import lightgbm as lgb\n",
    "import numpy as np\n",
    "import os\n",
    "import sys\n",
    "import re\n",
    "import pandas as pd\n",
    "import matplotlib\n",
    "from tqdm import tqdm\n",
    "from sklearn.model_selection import train_test_split\n",
    "from sklearn.datasets import load_iris\n",
    "from sklearn.metrics import mean_squared_error, roc_auc_score, accuracy_score\n",
    "from gensim.models import word2vec, keyedvectors\n",
    "import logging\n",
    "\n",
    "from model import lgb_model\n",
    "\n",
    "logging.basicConfig(format='%(asctime)s : %(levelname)s : %(message)s', level=logging.INFO)\n",
    "\n",
    "\n",
    "print(\"START loading train embedding and train user info\")\n",
    "train_np = np.loadtxt(\"embed/train/train_embedding_all_1.csv\", delimiter=\", \")\n",
    "train_np[train_np == 0] = np.nan\n",
    "\n",
    "train_root = \"dataset/train/\"\n",
    "train_user_path = os.path.join(train_root, \"user.csv\")\n",
    "train_user = pd.read_csv(train_user_path, index_col=\"user_id\")\n",
    "print(\"FINISH load train_np, train_user\")\n",
    "print(\"===========================================================================\")\n",
    "\n",
    "print(\"START get train_features, train_age, train_gender, and random split train/valid data\")\n",
    "uid = train_np[:, 0].astype(int)\n",
    "train_age = train_user.loc[uid, \"age\"]\n",
    "train_gender = train_user.loc[uid, \"gender\"]\n",
    "\n",
    "train_features = train_np[:, 1:]\n",
    "train_age = train_age.values - 1\n",
    "train_gender = train_gender.values - 1\n",
    "\n",
    "train_features, valid_features,\\\n",
    "train_age, valid_age,\\\n",
    "train_gender, valid_gender = train_test_split(train_features,\\\n",
    "                                              train_age,\\\n",
    "                                              train_gender,\\\n",
    "                                              test_size=0.33,\\\n",
    "                                              random_state=42)\n",
    "print(\"FINISH random split train/valid data\")\n",
    "print(\"===========================================================================\")\n",
    "\n",
    "print(\"START construct lgb train valid data\")\n",
    "lgb_traindata_gender = lgb.Dataset(train_features, train_gender)\n",
    "lgb_traindata_age = lgb.Dataset(train_features, train_age)\n",
    "\n",
    "lgb_valdata_gender = lgb.Dataset(valid_features, valid_gender, reference=lgb_traindata_gender)\n",
    "lgb_valdata_age = lgb.Dataset(valid_features, valid_age, reference=lgb_traindata_age)\n",
    "print(\"FINISH construct lgb train valid data\")\n",
    "print(\"===========================================================================\")\n"
   ]
  },
  {
   "cell_type": "code",
   "execution_count": 9,
   "metadata": {},
   "outputs": [],
   "source": [
    "# 导入已保存模型\n",
    "gender_model = lgb_model(model_kind=\"gender\")\n",
    "gender_model.load_model()\n",
    "age_model = lgb_model(model_kind=\"age\")\n",
    "age_model.load_model()"
   ]
  },
  {
   "cell_type": "code",
   "execution_count": 10,
   "metadata": {},
   "outputs": [
    {
     "name": "stdout",
     "output_type": "stream",
     "text": [
      "START valid acc of predict\n",
      "In valid data, accuracy of gender is 0.9190875420875421, accuracy of age is 0.36722895622895624\n",
      "FINISH\n",
      "===========================================================================\n"
     ]
    }
   ],
   "source": [
    "print(\"START valid acc of predict\")\n",
    "# TODO 性别模型的预测\n",
    "valid_gender_predict = gender_model.predict(valid_features)\n",
    "valid_gender_predict = gender_model.transform_pred(valid_gender_predict)\n",
    "acc_gender = accuracy_score(valid_gender_predict, valid_gender)\n",
    "\n",
    "# TODO 年龄模型的预测\n",
    "valid_age_predict = age_model.predict(valid_features)\n",
    "valid_age_predict = age_model.transform_pred(valid_age_predict)\n",
    "acc_age = accuracy_score(np.array(valid_age_predict), valid_age)\n",
    "\n",
    "print(\"In valid data, accuracy of gender is {}, accuracy of age is {}\".format(acc_gender, acc_age))\n",
    "print(\"FINISH\")\n",
    "print(\"===========================================================================\")"
   ]
  },
  {
   "cell_type": "code",
   "execution_count": null,
   "metadata": {},
   "outputs": [],
   "source": [
    "print(\"START test predict\")\n",
    "test_np = np.loadtxt(\"embed/test/test_embedding_all_1.csv\", delimiter=\", \")\n",
    "test_np[test_np == 0] = np.nan\n",
    "test_uid = test_np[:, 0].astype(int)\n",
    "test_features = test_np[:, 1:]\n",
    "\n",
    "# TODO 性别模型的预测\n",
    "test_gender_predict = gender_model.predict(test_features)\n",
    "test_gender_predict = gender_model.transform_pred(test_gender_predict)\n",
    "# TODO 年龄模型的预测\n",
    "test_age_predict = age_model.predict(test_features)\n",
    "test_age_predict = age_model.transform_pred(test_age_predict)\n",
    "\n",
    "result = pd.DataFrame({\"user_id\": test_uid, \"predicted_age\": test_age_predict, \"predicted_gender\": test_gender_predict})\n",
    "result.to_csv(\"results.csv\", index=False)\n",
    "\n",
    "print(\"FINISH ALL and save result to results.csv\")\n",
    "print(\"===========================================================================\")"
   ]
  },
  {
   "cell_type": "code",
   "execution_count": 14,
   "metadata": {},
   "outputs": [],
   "source": [
    "train_ad, train_click, train_user, test_ad, test_click = data.load_data()\n",
    "# train_record\n",
    "train_record = pd.merge(train_click, train_ad, on=\"creative_id\")\n",
    "# test_record\n",
    "test_record = pd.merge(test_click, test_ad, on=\"creative_id\")"
   ]
  },
  {
   "cell_type": "code",
   "execution_count": 17,
   "metadata": {},
   "outputs": [],
   "source": [
    "grouped = test_record.groupby(\"user_id\")"
   ]
  },
  {
   "cell_type": "code",
   "execution_count": 23,
   "metadata": {},
   "outputs": [],
   "source": [
    "test_np = np.loadtxt(\"embed/test/test_embedding_all_1.csv\", delimiter=\", \")"
   ]
  },
  {
   "cell_type": "code",
   "execution_count": 21,
   "metadata": {},
   "outputs": [
    {
     "name": "stdout",
     "output_type": "stream",
     "text": [
      "3000001\n",
      "          time  user_id  creative_id  click_times    ad_id  product_id  \\\n",
      "5220406     49  3000001      1711578            1  1482336     27031.0   \n",
      "10618442    49  3000001      1797787            1  1556702         NaN   \n",
      "10620073    29  3000001      1508864            1  1312021         NaN   \n",
      "12887100    11  3000001       665090            1   589862      1701.0   \n",
      "13559831    82  3000001      3899689            1  3350034         NaN   \n",
      "15495357    11  3000001       103064            1    93662      1794.0   \n",
      "15509685    49  3000001      2259756            1  1949993      8593.0   \n",
      "18030179    23  3000001       593698            1   527764      8938.0   \n",
      "24379686     3  3000001       351878            1   315858         NaN   \n",
      "24805472    54  3000001      2168054            1  1871684     32368.0   \n",
      "26704009    54  3000001      2477740            1  2134287         NaN   \n",
      "\n",
      "          product_category  advertiser_id  industry  \n",
      "5220406                  3          32735     317.0  \n",
      "10618442                18          39179     322.0  \n",
      "10620073                18          39179     322.0  \n",
      "12887100                 2           7000     247.0  \n",
      "13559831                18          54044     322.0  \n",
      "15495357                 2          13084     248.0  \n",
      "15509685                 3          17963     322.0  \n",
      "18030179                 3           9950     247.0  \n",
      "24379686                18           7579     322.0  \n",
      "24805472                 5            795     288.0  \n",
      "26704009                18          31837     322.0  \n"
     ]
    }
   ],
   "source": [
    "for user_id, record in grouped:\n",
    "    print(user_id)\n",
    "    print(record)\n",
    "    break"
   ]
  }
 ],
 "metadata": {
  "kernelspec": {
   "display_name": "Python 3",
   "language": "python",
   "name": "python3"
  },
  "language_info": {
   "codemirror_mode": {
    "name": "ipython",
    "version": 3
   },
   "file_extension": ".py",
   "mimetype": "text/x-python",
   "name": "python",
   "nbconvert_exporter": "python",
   "pygments_lexer": "ipython3",
   "version": "3.7.4"
  }
 },
 "nbformat": 4,
 "nbformat_minor": 4
}

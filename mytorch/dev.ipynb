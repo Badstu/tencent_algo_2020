{
 "cells": [
  {
   "cell_type": "code",
   "execution_count": 1,
   "metadata": {},
   "outputs": [
    {
     "name": "stdout",
     "output_type": "stream",
     "text": [
      "/home/sayhi/workspaces/tencent_algo_2020\n"
     ]
    }
   ],
   "source": [
    "cd tencent_algo_2020/"
   ]
  },
  {
   "cell_type": "code",
   "execution_count": 2,
   "metadata": {},
   "outputs": [],
   "source": [
    "import sys\n",
    "sys.path.append('/home/sayhi/workspaces/tencent_algo_2020/')\n",
    "\n",
    "import time\n",
    "import data\n",
    "import lightgbm as lgb\n",
    "import numpy as np\n",
    "import os\n",
    "import sys\n",
    "import re\n",
    "import pandas as pd\n",
    "import matplotlib\n",
    "from tqdm import tqdm\n",
    "from sklearn.model_selection import train_test_split\n",
    "from sklearn.datasets import load_iris\n",
    "from sklearn.metrics import mean_squared_error, roc_auc_score, accuracy_score\n",
    "from gensim.models import word2vec, keyedvectors\n",
    "import logging\n",
    "\n",
    "import torch\n",
    "import torch.nn as nn\n",
    "import torchvision\n",
    "from torchnet import meter\n",
    "from torch.utils.data import Dataset, DataLoader\n",
    "import torch.nn.utils.rnn as rnn_utils\n",
    "from mytorch.dataset import RecordDataset\n",
    "from mytorch.lstm import ClickRNN\n",
    "\n",
    "logging.basicConfig(format='%(asctime)s : %(levelname)s : %(message)s', level=logging.INFO)"
   ]
  },
  {
   "cell_type": "code",
   "execution_count": 3,
   "metadata": {},
   "outputs": [],
   "source": [
    "def collate_fn(data):\n",
    "    data.sort(key = lambda x: x[0], reverse=True)\n",
    "    t = [x[0] for x in data]\n",
    "    embed_features = [x[1] for x in data]\n",
    "    age = [x[2] for x in data]\n",
    "    gender = [x[3] for x in data]\n",
    "\n",
    "    embed_features = rnn_utils.pad_sequence(embed_features, batch_first=True, padding_value=0)\n",
    "    # embed_features = rnn_utils.pack_padded_sequence(embed_features, lengths=t, batch_first=True)\n",
    "    return t, embed_features, age, gender\n",
    "\n",
    "def transform_pred(pred, model_kind):\n",
    "#     pred = pred.numpy()\n",
    "    if model_kind == \"gender\":\n",
    "        record_pred_label = pred.copy()\n",
    "        record_pred_label[pred >= 0.5] = 1\n",
    "        record_pred_label[pred < 0.5] = 0\n",
    "        record_pred_label = record_pred_label.astype(int)\n",
    "    elif model_kind == \"age\":\n",
    "        record_pred_label = [list(x).index(max(x)) for x in pred]\n",
    "\n",
    "    return record_pred_label"
   ]
  },
  {
   "cell_type": "code",
   "execution_count": 4,
   "metadata": {},
   "outputs": [
    {
     "name": "stderr",
     "output_type": "stream",
     "text": [
      "2020-06-08 20:10:49,973 : INFO : loading projection weights from checkpoints/creative_model.w2v\n",
      "2020-06-08 20:11:09,273 : INFO : loaded (3412772, 200) matrix from checkpoints/creative_model.w2v\n",
      "2020-06-08 20:11:09,274 : INFO : loading projection weights from checkpoints/ad_model.w2v\n",
      "2020-06-08 20:11:26,560 : INFO : loaded (3027360, 200) matrix from checkpoints/ad_model.w2v\n",
      "2020-06-08 20:11:26,562 : INFO : loading projection weights from checkpoints/product_model.w2v\n",
      "2020-06-08 20:11:26,746 : INFO : loaded (39056, 200) matrix from checkpoints/product_model.w2v\n",
      "2020-06-08 20:11:26,748 : INFO : loading projection weights from checkpoints/advertiser_model.w2v\n",
      "2020-06-08 20:11:27,004 : INFO : loaded (57870, 100) matrix from checkpoints/advertiser_model.w2v\n",
      "2020-06-08 20:11:27,006 : INFO : loading projection weights from checkpoints/industry_model.w2v\n",
      "2020-06-08 20:11:27,011 : INFO : loaded (331, 100) matrix from checkpoints/industry_model.w2v\n"
     ]
    }
   ],
   "source": [
    "creative_model = keyedvectors.KeyedVectors.load_word2vec_format(\"checkpoints/creative_model.w2v\", binary=True)\n",
    "ad_model = keyedvectors.KeyedVectors.load_word2vec_format(\"checkpoints/ad_model.w2v\", binary=True)\n",
    "product_model = keyedvectors.KeyedVectors.load_word2vec_format(\"checkpoints/product_model.w2v\", binary=True)\n",
    "advertiser_model = keyedvectors.KeyedVectors.load_word2vec_format(\"checkpoints/advertiser_model.w2v\", binary=True)\n",
    "industry_model = keyedvectors.KeyedVectors.load_word2vec_format(\"checkpoints/industry_model.w2v\", binary=True)"
   ]
  },
  {
   "cell_type": "code",
   "execution_count": 5,
   "metadata": {},
   "outputs": [],
   "source": [
    "def main(train_list, valid_list, model_type=\"gender\"):\n",
    "    batch_size = 128\n",
    "    hidden_dim = 200\n",
    "    train_on_gpu=True\n",
    "    device = torch.device(\"cuda\") if train_on_gpu else torch.device(\"cpu\")\n",
    "    \n",
    "    model_path = None\n",
    "    lr = 1e-4\n",
    "    lr_decay = 0.9\n",
    "    weight_decay = 1e-5\n",
    "    \n",
    "    max_epoch = 50\n",
    "    \n",
    "    train_dataset = RecordDataset(train_list, creative_model, ad_model, product_model, advertiser_model, industry_model, data_type=\"train\")\n",
    "    valid_dataset = RecordDataset(valid_list, creative_model, ad_model, product_model, advertiser_model, industry_model, data_type=\"train\")\n",
    "#     test_dataset = RecordDataset(test_list)\n",
    "    \n",
    "    train_loader = DataLoader(train_dataset, batch_size=batch_size, shuffle=True, \n",
    "                              num_workers=8, drop_last=True, collate_fn=collate_fn)\n",
    "    valid_loader = DataLoader(valid_dataset, batch_size=batch_size, shuffle=True, \n",
    "                              num_workers=8, drop_last=True, collate_fn=collate_fn)\n",
    "#     test_loader = DataLoader(test_loader, batch_size=batch_size, shuffle=True, \n",
    "#                              num_workers=8, drop_last=True, collate_fn=collate_fn)\n",
    "    \n",
    "    print(len(train_dataset), len(valid_dataset))\n",
    "    \n",
    "    if model_type == \"gender\":\n",
    "        model = ClickRNN(input_dim=800, hidden_dim=hidden_dim, output_dim=1, \n",
    "                         n_layers=2, batch_size=batch_size, train_on_gpu=train_on_gpu)\n",
    "    elif model_type == \"age\":\n",
    "        model = ClickRNN(input_dim=800, hidden_dim=hidden_dim, output_dim=10, \n",
    "                         n_layers=2, batch_size=batch_size, train_on_gpu=train_on_gpu)\n",
    "        \n",
    "\n",
    "    optimizer = torch.optim.Adam(\n",
    "        params=model.parameters(),\n",
    "        lr=lr,\n",
    "        weight_decay=weight_decay,\n",
    "        betas=(0.9, 0.99)\n",
    "    )\n",
    "    \n",
    "    if model_path != None:\n",
    "        map_location = lambda storage, loc: storage\n",
    "        checkpoint = torch.load(model_path, map_location=map_location)\n",
    "        model.load_state_dict(checkpoint[\"model\"])\n",
    "        last_epoch = checkpoint[\"epoch\"]\n",
    "        lr = checkpoint[\"lr\"]\n",
    "        optimizer.load_state_dict(checkpoint[\"optimizer\"])\n",
    "\n",
    "    model = model.to(device)\n",
    "    \n",
    "    last_epoch = -1\n",
    "    previous_loss = 1000\n",
    "    best_test_acc = 0\n",
    "    best_model = None\n",
    "    \n",
    "    for epoch in range(max_epoch):\n",
    "        if epoch < last_epoch:\n",
    "            continue\n",
    "\n",
    "        # ========================================START TRAIN============================================\n",
    "        # train\n",
    "        model.train()\n",
    "        if model_type == \"gender\":\n",
    "            criterion = nn.BCEWithLogitsLoss()\n",
    "        elif model_type == \"age\":\n",
    "            criterion = nn.CrossEntropyLoss()\n",
    "\n",
    "        loss_meter = meter.AverageValueMeter()\n",
    "        acc_meter = meter.AverageValueMeter()\n",
    "        loss_meter.reset()\n",
    "        acc_meter.reset()\n",
    "\n",
    "        for ii, (lengths, embed_features, age, gender) in tqdm(enumerate(train_loader)):\n",
    "            if max(lengths) > 400:\n",
    "                continue\n",
    "            torch.cuda.empty_cache()\n",
    "            # input: [batch, time_step, input_size]\n",
    "            if model_type == \"gender\":\n",
    "                label = torch.Tensor(gender) - 1\n",
    "            elif model_type == \"age\":\n",
    "                label = torch.Tensor(age) - 1\n",
    "                label = label.long()\n",
    "                \n",
    "            embed_features = embed_features.to(device)\n",
    "            label = label.to(device)\n",
    "\n",
    "            out, _ = model(embed_features)\n",
    "            if model_type == \"gender\":\n",
    "                out = out.squeeze()\n",
    "                \n",
    "            loss = criterion(out, label)\n",
    "            loss.backward()\n",
    "\n",
    "            optimizer.step()\n",
    "            optimizer.zero_grad()\n",
    "\n",
    "            acc = accuracy_score(label.cpu().data.numpy(), transform_pred(out.cpu().data.numpy(), model_type))\n",
    "            acc_meter.add(acc)\n",
    "            loss_meter.add(loss.item())\n",
    "            \n",
    "            if ii % 200 == 0:\n",
    "                print(\"epoch:{epoch}, \\\n",
    "                lr:{lr:.5f}, \\\n",
    "                train_loss:{loss:.5f}, \\\n",
    "                train_acc:{acc:.5f}\".format(epoch = epoch, \n",
    "                                            lr = lr, \n",
    "                                            loss = loss_meter.value()[0], \n",
    "                                            acc = acc_meter.value()[0]))\n",
    "\n",
    "        print(\"epoch:{epoch}, lr:{lr:.5f}, train_loss:{loss:.5f}, train_acc:{acc:.5f}\".format(epoch = epoch,\n",
    "                                                                                            lr = lr,\n",
    "                                                                                            loss = loss_meter.value()[0],\n",
    "                                                                                            acc = acc_meter.value()[0]))\n",
    "        # ========================================STOP TRAIN============================================\n",
    "        # ========================================START VALID============================================\n",
    "        model.eval()\n",
    "        if model_type == \"gender\":\n",
    "            criterion = nn.BCEWithLogitsLoss()\n",
    "        elif model_type == \"age\":\n",
    "            criterion = nn.CrossEntropyLoss()\n",
    "\n",
    "        val_loss_meter = meter.AverageValueMeter()\n",
    "        val_acc_meter = meter.AverageValueMeter()\n",
    "        val_loss_meter.reset()\n",
    "        val_acc_meter.reset()\n",
    "\n",
    "        for ii, (lengths, embed_features, age, gender) in tqdm(enumerate(valid_loader)):\n",
    "            if max(lengths) > 400:\n",
    "                continue\n",
    "            torch.cuda.empty_cache()\n",
    "            # input: [batch, time_step, input_size]\n",
    "            if model_type == \"gender\":\n",
    "                label = torch.Tensor(gender) - 1\n",
    "            elif model_type == \"age\":\n",
    "                label = torch.Tensor(age) - 1\n",
    "                label = label.long()\n",
    "\n",
    "            embed_features = embed_features.to(device)\n",
    "            label = label.to(device)\n",
    "\n",
    "            out, _ = model(embed_features)\n",
    "            if model_type == \"gender\":\n",
    "                out = out.squeeze()\n",
    "            loss = criterion(out, label)\n",
    "\n",
    "            acc = accuracy_score(label.cpu().data.numpy(), transform_pred(out.cpu().data.numpy(), model_type))\n",
    "            val_acc_meter.add(acc)\n",
    "            val_loss_meter.add(loss.item())\n",
    "            \n",
    "            if ii % 200 == 0:\n",
    "                print(\"epoch:{epoch}, \\\n",
    "                        lr:{lr:.5f}, \\\n",
    "                        val_loss:{loss:.5f}, \\\n",
    "                        val_acc:{acc:.5f}\".format(epoch = epoch, \n",
    "                                                  lr = lr, \n",
    "                                                  loss = val_loss_meter.value()[0], \n",
    "                                                  acc = val_acc_meter.value()[0]))\n",
    "\n",
    "        print(\"epoch:{epoch}, lr:{lr:.5f}, val_loss:{loss:.5f}, val_acc:{acc:.5f}\".format(epoch = epoch,\n",
    "                                                                                            lr = lr,\n",
    "                                                                                            loss = val_loss_meter.value()[0],\n",
    "                                                                                            acc = val_acc_meter.value()[0]))\n",
    "        # ========================================STOP VALID============================================\n",
    "\n",
    "\n",
    "        best_test_acc = max(best_test_acc, val_acc_meter.value()[0])\n",
    "\n",
    "        if best_test_acc > val_acc_meter.value()[0]:\n",
    "            best_test_acc = val_acc_meter.value()[0]\n",
    "            best_model = model\n",
    "        print(\"best_test_auc(val) is: \", best_test_acc)\n",
    "\n",
    "        current_loss = loss_meter.value()[0]    \n",
    "        print(\"current_loss: \", current_loss)\n",
    "        if (current_loss > previous_loss) or ((epoch + 1) % 5) == 0:\n",
    "            lr = lr * lr_decay\n",
    "            for param_group in optimizer.param_groups:\n",
    "                param_group['lr'] = lr\n",
    "\n",
    "        previous_loss = current_loss\n",
    "\n",
    "        # TODO 每save_every个epoch结束后保存模型参数+optimizer参数\n",
    "        if (epoch + 1) % 10 == 0:\n",
    "            prefix = \"checkpoints/LSTM_epoch{}_\".format(epoch+1)\n",
    "            file_name = time.strftime(prefix + '%m%d_%H_%M_%S.pth')\n",
    "            checkpoint = {\n",
    "                \"epoch\": epoch,\n",
    "                \"optimizer\": optimizer.state_dict(),\n",
    "                \"model\": model.state_dict(),\n",
    "                \"lr\": lr\n",
    "            }\n",
    "            torch.save(checkpoint, file_name)\n",
    "\n",
    "    # TODO 结束的时候保存final模型参数\n",
    "    file_name = time.strftime('checkpoints/LSTM_final_%m%d_%H_%M_%S.pth')\n",
    "    checkpoint = {\n",
    "        \"epoch\": epoch,\n",
    "        \"optimizer\": optimizer.state_dict(),\n",
    "        \"model\": model.state_dict(),\n",
    "        \"lr\": lr\n",
    "    }\n",
    "    torch.save(checkpoint, file_name)\n",
    "    return best_model"
   ]
  },
  {
   "cell_type": "code",
   "execution_count": 7,
   "metadata": {},
   "outputs": [],
   "source": [
    "train_ad, train_click, train_user, test_ad, test_click = data.load_data()\n",
    "# train_record\n",
    "train_record = pd.merge(train_click, train_ad, on=\"creative_id\")\n",
    "# test_record\n",
    "test_record = pd.merge(test_click, test_ad, on=\"creative_id\")\n",
    "\n",
    "# sample data\n",
    "sample_record = train_record[:5000]\n",
    "sample_grouped = sample_record.groupby(\"user_id\")"
   ]
  },
  {
   "cell_type": "code",
   "execution_count": 8,
   "metadata": {},
   "outputs": [
    {
     "name": "stdout",
     "output_type": "stream",
     "text": [
      "start train!!!\n",
      "2597 1280\n"
     ]
    },
    {
     "name": "stderr",
     "output_type": "stream",
     "text": [
      "8it [00:00,  7.58it/s]"
     ]
    },
    {
     "name": "stdout",
     "output_type": "stream",
     "text": [
      "epoch:0,                 lr:0.00010,                 train_loss:0.79595,                 train_acc:0.71094\n"
     ]
    },
    {
     "name": "stderr",
     "output_type": "stream",
     "text": [
      "20it [00:00, 34.22it/s]"
     ]
    },
    {
     "name": "stdout",
     "output_type": "stream",
     "text": [
      "epoch:0, lr:0.00010, train_loss:0.79789, train_acc:0.66836\n"
     ]
    },
    {
     "name": "stderr",
     "output_type": "stream",
     "text": [
      "\n",
      "10it [00:00, 34.80it/s]"
     ]
    },
    {
     "name": "stdout",
     "output_type": "stream",
     "text": [
      "epoch:0,                         lr:0.00010,                         val_loss:0.79719,                         val_acc:0.67969\n",
      "epoch:0, lr:0.00010, val_loss:0.78369, val_acc:0.65312\n",
      "best_test_auc(val) is:  0.653125\n",
      "current_loss:  0.7978916317224504\n"
     ]
    },
    {
     "name": "stderr",
     "output_type": "stream",
     "text": [
      "\n",
      "9it [00:00,  7.19it/s]"
     ]
    },
    {
     "name": "stdout",
     "output_type": "stream",
     "text": [
      "epoch:1,                 lr:0.00010,                 train_loss:0.75556,                 train_acc:0.60156\n"
     ]
    },
    {
     "name": "stderr",
     "output_type": "stream",
     "text": [
      "20it [00:00, 32.88it/s]"
     ]
    },
    {
     "name": "stdout",
     "output_type": "stream",
     "text": [
      "epoch:1, lr:0.00010, train_loss:0.76994, train_acc:0.66680\n"
     ]
    },
    {
     "name": "stderr",
     "output_type": "stream",
     "text": [
      "\n",
      "10it [00:00, 34.58it/s]"
     ]
    },
    {
     "name": "stdout",
     "output_type": "stream",
     "text": [
      "epoch:1,                         lr:0.00010,                         val_loss:0.72683,                         val_acc:0.61719\n",
      "epoch:1, lr:0.00010, val_loss:0.74352, val_acc:0.65313\n",
      "best_test_auc(val) is:  0.6531250000000001\n",
      "current_loss:  0.7699404448270797\n"
     ]
    },
    {
     "name": "stderr",
     "output_type": "stream",
     "text": [
      "\n",
      "8it [00:00,  8.46it/s]"
     ]
    },
    {
     "name": "stdout",
     "output_type": "stream",
     "text": [
      "epoch:2,                 lr:0.00010,                 train_loss:0.74505,                 train_acc:0.67188\n"
     ]
    },
    {
     "name": "stderr",
     "output_type": "stream",
     "text": [
      "20it [00:00, 35.81it/s]"
     ]
    },
    {
     "name": "stdout",
     "output_type": "stream",
     "text": [
      "epoch:2, lr:0.00010, train_loss:0.71943, train_acc:0.66680\n"
     ]
    },
    {
     "name": "stderr",
     "output_type": "stream",
     "text": [
      "\n",
      "10it [00:00, 34.41it/s]"
     ]
    },
    {
     "name": "stdout",
     "output_type": "stream",
     "text": [
      "epoch:2,                         lr:0.00010,                         val_loss:0.69826,                         val_acc:0.59375\n",
      "epoch:2, lr:0.00010, val_loss:0.69894, val_acc:0.65312\n",
      "best_test_auc(val) is:  0.653125\n",
      "current_loss:  0.7194345921277999\n"
     ]
    },
    {
     "name": "stderr",
     "output_type": "stream",
     "text": [
      "\n",
      "8it [00:00,  8.20it/s]"
     ]
    },
    {
     "name": "stdout",
     "output_type": "stream",
     "text": [
      "epoch:3,                 lr:0.00010,                 train_loss:0.70231,                 train_acc:0.69531\n"
     ]
    },
    {
     "name": "stderr",
     "output_type": "stream",
     "text": [
      "20it [00:00, 35.19it/s]"
     ]
    },
    {
     "name": "stdout",
     "output_type": "stream",
     "text": [
      "epoch:3, lr:0.00010, train_loss:0.69632, train_acc:0.66641\n"
     ]
    },
    {
     "name": "stderr",
     "output_type": "stream",
     "text": [
      "\n",
      "10it [00:00, 34.29it/s]"
     ]
    },
    {
     "name": "stdout",
     "output_type": "stream",
     "text": [
      "epoch:3,                         lr:0.00010,                         val_loss:0.69401,                         val_acc:0.64062\n",
      "epoch:3, lr:0.00010, val_loss:0.69395, val_acc:0.65312\n",
      "best_test_auc(val) is:  0.653125\n",
      "current_loss:  0.6963183104991915\n"
     ]
    },
    {
     "name": "stderr",
     "output_type": "stream",
     "text": [
      "\n",
      "6it [00:00,  9.86it/s]"
     ]
    },
    {
     "name": "stdout",
     "output_type": "stream",
     "text": [
      "epoch:4,                 lr:0.00010,                 train_loss:0.69361,                 train_acc:0.63281\n"
     ]
    },
    {
     "name": "stderr",
     "output_type": "stream",
     "text": [
      "20it [00:00, 33.74it/s]"
     ]
    },
    {
     "name": "stdout",
     "output_type": "stream",
     "text": [
      "epoch:4, lr:0.00010, train_loss:0.69375, train_acc:0.66719\n"
     ]
    },
    {
     "name": "stderr",
     "output_type": "stream",
     "text": [
      "\n",
      "10it [00:00, 30.98it/s]"
     ]
    },
    {
     "name": "stdout",
     "output_type": "stream",
     "text": [
      "epoch:4,                         lr:0.00010,                         val_loss:0.69201,                         val_acc:0.57812\n",
      "epoch:4, lr:0.00010, val_loss:0.69353, val_acc:0.65312\n",
      "best_test_auc(val) is:  0.653125\n",
      "current_loss:  0.6937532722949982\n"
     ]
    },
    {
     "name": "stderr",
     "output_type": "stream",
     "text": [
      "\n",
      "5it [00:00,  9.09it/s]"
     ]
    },
    {
     "name": "stdout",
     "output_type": "stream",
     "text": [
      "epoch:5,                 lr:0.00009,                 train_loss:0.69383,                 train_acc:0.65625\n"
     ]
    },
    {
     "name": "stderr",
     "output_type": "stream",
     "text": [
      "20it [00:00, 35.80it/s]"
     ]
    },
    {
     "name": "stdout",
     "output_type": "stream",
     "text": [
      "epoch:5, lr:0.00009, train_loss:0.69333, train_acc:0.66758\n"
     ]
    },
    {
     "name": "stderr",
     "output_type": "stream",
     "text": [
      "\n",
      "10it [00:00, 33.45it/s]"
     ]
    },
    {
     "name": "stdout",
     "output_type": "stream",
     "text": [
      "epoch:5,                         lr:0.00009,                         val_loss:0.69447,                         val_acc:0.70312\n",
      "epoch:5, lr:0.00009, val_loss:0.69269, val_acc:0.65312\n",
      "best_test_auc(val) is:  0.653125\n",
      "current_loss:  0.6933286339044571\n"
     ]
    },
    {
     "name": "stderr",
     "output_type": "stream",
     "text": [
      "\n",
      "9it [00:00,  7.74it/s]"
     ]
    },
    {
     "name": "stdout",
     "output_type": "stream",
     "text": [
      "epoch:6,                 lr:0.00009,                 train_loss:0.69233,                 train_acc:0.64844\n"
     ]
    },
    {
     "name": "stderr",
     "output_type": "stream",
     "text": [
      "20it [00:00, 34.13it/s]"
     ]
    },
    {
     "name": "stdout",
     "output_type": "stream",
     "text": [
      "epoch:6, lr:0.00009, train_loss:0.69274, train_acc:0.66680\n"
     ]
    },
    {
     "name": "stderr",
     "output_type": "stream",
     "text": [
      "\n",
      "10it [00:00, 35.55it/s]"
     ]
    },
    {
     "name": "stdout",
     "output_type": "stream",
     "text": [
      "epoch:6,                         lr:0.00009,                         val_loss:0.69239,                         val_acc:0.66406\n",
      "epoch:6, lr:0.00009, val_loss:0.69110, val_acc:0.65313\n",
      "best_test_auc(val) is:  0.6531250000000001\n",
      "current_loss:  0.6927418798208237\n"
     ]
    },
    {
     "name": "stderr",
     "output_type": "stream",
     "text": [
      "\n",
      "7it [00:00,  8.98it/s]"
     ]
    },
    {
     "name": "stdout",
     "output_type": "stream",
     "text": [
      "epoch:7,                 lr:0.00009,                 train_loss:0.69085,                 train_acc:0.71094\n"
     ]
    },
    {
     "name": "stderr",
     "output_type": "stream",
     "text": [
      "20it [00:00, 34.71it/s]"
     ]
    },
    {
     "name": "stdout",
     "output_type": "stream",
     "text": [
      "epoch:7, lr:0.00009, train_loss:0.69221, train_acc:0.66641\n"
     ]
    },
    {
     "name": "stderr",
     "output_type": "stream",
     "text": [
      "\n",
      "10it [00:00, 36.63it/s]"
     ]
    },
    {
     "name": "stdout",
     "output_type": "stream",
     "text": [
      "epoch:7,                         lr:0.00009,                         val_loss:0.69289,                         val_acc:0.65625\n",
      "epoch:7, lr:0.00009, val_loss:0.69023, val_acc:0.65313\n",
      "best_test_auc(val) is:  0.6531250000000001\n",
      "current_loss:  0.6922135651111603\n"
     ]
    },
    {
     "name": "stderr",
     "output_type": "stream",
     "text": [
      "\n",
      "5it [00:00,  9.04it/s]"
     ]
    },
    {
     "name": "stdout",
     "output_type": "stream",
     "text": [
      "epoch:8,                 lr:0.00009,                 train_loss:0.68894,                 train_acc:0.68750\n"
     ]
    },
    {
     "name": "stderr",
     "output_type": "stream",
     "text": [
      "20it [00:00, 30.88it/s]"
     ]
    },
    {
     "name": "stdout",
     "output_type": "stream",
     "text": [
      "epoch:8, lr:0.00009, train_loss:0.69212, train_acc:0.66641\n"
     ]
    },
    {
     "name": "stderr",
     "output_type": "stream",
     "text": [
      "\n",
      "10it [00:00, 33.53it/s]"
     ]
    },
    {
     "name": "stdout",
     "output_type": "stream",
     "text": [
      "epoch:8,                         lr:0.00009,                         val_loss:0.68534,                         val_acc:0.67188\n",
      "epoch:8, lr:0.00009, val_loss:0.68994, val_acc:0.65312\n",
      "best_test_auc(val) is:  0.653125\n",
      "current_loss:  0.6921226054430007\n"
     ]
    },
    {
     "name": "stderr",
     "output_type": "stream",
     "text": [
      "\n",
      "9it [00:00,  6.95it/s]"
     ]
    },
    {
     "name": "stdout",
     "output_type": "stream",
     "text": [
      "epoch:9,                 lr:0.00009,                 train_loss:0.68169,                 train_acc:0.56250\n"
     ]
    },
    {
     "name": "stderr",
     "output_type": "stream",
     "text": [
      "20it [00:00, 36.04it/s]"
     ]
    },
    {
     "name": "stdout",
     "output_type": "stream",
     "text": [
      "epoch:9, lr:0.00009, train_loss:0.69217, train_acc:0.66562\n"
     ]
    },
    {
     "name": "stderr",
     "output_type": "stream",
     "text": [
      "\n",
      "10it [00:00, 32.76it/s]"
     ]
    },
    {
     "name": "stdout",
     "output_type": "stream",
     "text": [
      "epoch:9,                         lr:0.00009,                         val_loss:0.68941,                         val_acc:0.64062\n",
      "epoch:9, lr:0.00009, val_loss:0.68988, val_acc:0.65312\n",
      "best_test_auc(val) is:  0.653125\n",
      "current_loss:  0.6921658992767333\n"
     ]
    },
    {
     "name": "stderr",
     "output_type": "stream",
     "text": [
      "\n",
      "7it [00:00,  8.60it/s]"
     ]
    },
    {
     "name": "stdout",
     "output_type": "stream",
     "text": [
      "epoch:10,                 lr:0.00008,                 train_loss:0.69036,                 train_acc:0.65625\n"
     ]
    },
    {
     "name": "stderr",
     "output_type": "stream",
     "text": [
      "20it [00:00, 35.46it/s]"
     ]
    },
    {
     "name": "stdout",
     "output_type": "stream",
     "text": [
      "epoch:10, lr:0.00008, train_loss:0.69151, train_acc:0.66563\n"
     ]
    },
    {
     "name": "stderr",
     "output_type": "stream",
     "text": [
      "\n",
      "10it [00:00, 31.91it/s]"
     ]
    },
    {
     "name": "stdout",
     "output_type": "stream",
     "text": [
      "epoch:10,                         lr:0.00008,                         val_loss:0.69383,                         val_acc:0.66406\n",
      "epoch:10, lr:0.00008, val_loss:0.69033, val_acc:0.65313\n",
      "best_test_auc(val) is:  0.6531250000000001\n",
      "current_loss:  0.6915077298879624\n"
     ]
    },
    {
     "name": "stderr",
     "output_type": "stream",
     "text": [
      "\n",
      "6it [00:00,  9.62it/s]"
     ]
    },
    {
     "name": "stdout",
     "output_type": "stream",
     "text": [
      "epoch:11,                 lr:0.00008,                 train_loss:0.68878,                 train_acc:0.71875\n"
     ]
    },
    {
     "name": "stderr",
     "output_type": "stream",
     "text": [
      "20it [00:00, 36.78it/s]"
     ]
    },
    {
     "name": "stdout",
     "output_type": "stream",
     "text": [
      "epoch:11, lr:0.00008, train_loss:0.69176, train_acc:0.66680\n"
     ]
    },
    {
     "name": "stderr",
     "output_type": "stream",
     "text": [
      "\n",
      "10it [00:00, 33.67it/s]"
     ]
    },
    {
     "name": "stdout",
     "output_type": "stream",
     "text": [
      "epoch:11,                         lr:0.00008,                         val_loss:0.69372,                         val_acc:0.64844\n",
      "epoch:11, lr:0.00008, val_loss:0.68999, val_acc:0.65312\n",
      "best_test_auc(val) is:  0.653125\n",
      "current_loss:  0.6917551666498184\n"
     ]
    },
    {
     "name": "stderr",
     "output_type": "stream",
     "text": [
      "\n",
      "10it [00:00,  7.70it/s]"
     ]
    },
    {
     "name": "stdout",
     "output_type": "stream",
     "text": [
      "epoch:12,                 lr:0.00007,                 train_loss:0.69353,                 train_acc:0.64062\n"
     ]
    },
    {
     "name": "stderr",
     "output_type": "stream",
     "text": [
      "20it [00:00, 33.27it/s]"
     ]
    },
    {
     "name": "stdout",
     "output_type": "stream",
     "text": [
      "epoch:12, lr:0.00007, train_loss:0.69148, train_acc:0.66719\n"
     ]
    },
    {
     "name": "stderr",
     "output_type": "stream",
     "text": [
      "\n",
      "10it [00:00, 35.21it/s]"
     ]
    },
    {
     "name": "stdout",
     "output_type": "stream",
     "text": [
      "epoch:12,                         lr:0.00007,                         val_loss:0.69472,                         val_acc:0.68750\n",
      "epoch:12, lr:0.00007, val_loss:0.69057, val_acc:0.65312\n",
      "best_test_auc(val) is:  0.653125\n",
      "current_loss:  0.6914846062660216\n"
     ]
    },
    {
     "name": "stderr",
     "output_type": "stream",
     "text": [
      "\n",
      "8it [00:00,  8.26it/s]"
     ]
    },
    {
     "name": "stdout",
     "output_type": "stream",
     "text": [
      "epoch:13,                 lr:0.00007,                 train_loss:0.69409,                 train_acc:0.72656\n"
     ]
    },
    {
     "name": "stderr",
     "output_type": "stream",
     "text": [
      "20it [00:00, 36.81it/s]"
     ]
    },
    {
     "name": "stdout",
     "output_type": "stream",
     "text": [
      "epoch:13, lr:0.00007, train_loss:0.69138, train_acc:0.66914\n"
     ]
    },
    {
     "name": "stderr",
     "output_type": "stream",
     "text": [
      "\n",
      "10it [00:00, 35.15it/s]"
     ]
    },
    {
     "name": "stdout",
     "output_type": "stream",
     "text": [
      "epoch:13,                         lr:0.00007,                         val_loss:0.69629,                         val_acc:0.72656\n",
      "epoch:13, lr:0.00007, val_loss:0.69071, val_acc:0.65312\n",
      "best_test_auc(val) is:  0.653125\n",
      "current_loss:  0.6913799524307251\n"
     ]
    },
    {
     "name": "stderr",
     "output_type": "stream",
     "text": [
      "\n",
      "6it [00:00,  9.19it/s]"
     ]
    },
    {
     "name": "stdout",
     "output_type": "stream",
     "text": [
      "epoch:14,                 lr:0.00007,                 train_loss:0.68487,                 train_acc:0.55469\n"
     ]
    },
    {
     "name": "stderr",
     "output_type": "stream",
     "text": [
      "20it [00:00, 35.83it/s]"
     ]
    },
    {
     "name": "stdout",
     "output_type": "stream",
     "text": [
      "epoch:14, lr:0.00007, train_loss:0.69160, train_acc:0.66836\n"
     ]
    },
    {
     "name": "stderr",
     "output_type": "stream",
     "text": [
      "\n",
      "10it [00:00, 32.36it/s]"
     ]
    },
    {
     "name": "stdout",
     "output_type": "stream",
     "text": [
      "epoch:14,                         lr:0.00007,                         val_loss:0.69005,                         val_acc:0.68750\n",
      "epoch:14, lr:0.00007, val_loss:0.69048, val_acc:0.65312\n",
      "best_test_auc(val) is:  0.653125\n",
      "current_loss:  0.6916002780199052\n"
     ]
    },
    {
     "name": "stderr",
     "output_type": "stream",
     "text": [
      "\n",
      "11it [00:00, 12.02it/s]"
     ]
    },
    {
     "name": "stdout",
     "output_type": "stream",
     "text": [
      "epoch:15,                 lr:0.00007,                 train_loss:0.68619,                 train_acc:0.62500\n"
     ]
    },
    {
     "name": "stderr",
     "output_type": "stream",
     "text": [
      "20it [00:00, 35.26it/s]"
     ]
    },
    {
     "name": "stdout",
     "output_type": "stream",
     "text": [
      "epoch:15, lr:0.00007, train_loss:0.69077, train_acc:0.66836\n"
     ]
    },
    {
     "name": "stderr",
     "output_type": "stream",
     "text": [
      "\n",
      "10it [00:00, 35.47it/s]"
     ]
    },
    {
     "name": "stdout",
     "output_type": "stream",
     "text": [
      "epoch:15,                         lr:0.00007,                         val_loss:0.69050,                         val_acc:0.64844\n",
      "epoch:15, lr:0.00007, val_loss:0.69055, val_acc:0.65312\n",
      "best_test_auc(val) is:  0.653125\n",
      "current_loss:  0.6907721310853957\n"
     ]
    },
    {
     "name": "stderr",
     "output_type": "stream",
     "text": [
      "\n",
      "6it [00:00,  9.21it/s]"
     ]
    },
    {
     "name": "stdout",
     "output_type": "stream",
     "text": [
      "epoch:16,                 lr:0.00007,                 train_loss:0.69064,                 train_acc:0.73438\n"
     ]
    },
    {
     "name": "stderr",
     "output_type": "stream",
     "text": [
      "20it [00:00, 37.07it/s]"
     ]
    },
    {
     "name": "stdout",
     "output_type": "stream",
     "text": [
      "epoch:16, lr:0.00007, train_loss:0.69133, train_acc:0.66758\n"
     ]
    },
    {
     "name": "stderr",
     "output_type": "stream",
     "text": [
      "\n",
      "10it [00:00, 34.27it/s]"
     ]
    },
    {
     "name": "stdout",
     "output_type": "stream",
     "text": [
      "epoch:16,                         lr:0.00007,                         val_loss:0.68207,                         val_acc:0.68750\n",
      "epoch:16, lr:0.00007, val_loss:0.69015, val_acc:0.65313\n",
      "best_test_auc(val) is:  0.6531250000000001\n",
      "current_loss:  0.6913302391767502\n"
     ]
    },
    {
     "name": "stderr",
     "output_type": "stream",
     "text": [
      "\n",
      "6it [00:00,  9.00it/s]"
     ]
    },
    {
     "name": "stdout",
     "output_type": "stream",
     "text": [
      "epoch:17,                 lr:0.00006,                 train_loss:0.69112,                 train_acc:0.64062\n"
     ]
    },
    {
     "name": "stderr",
     "output_type": "stream",
     "text": [
      "20it [00:00, 36.50it/s]\n"
     ]
    },
    {
     "name": "stdout",
     "output_type": "stream",
     "text": [
      "epoch:17, lr:0.00006, train_loss:0.69115, train_acc:0.66523\n"
     ]
    },
    {
     "name": "stderr",
     "output_type": "stream",
     "text": [
      "10it [00:00, 32.78it/s]"
     ]
    },
    {
     "name": "stdout",
     "output_type": "stream",
     "text": [
      "epoch:17,                         lr:0.00006,                         val_loss:0.68550,                         val_acc:0.64844\n",
      "epoch:17, lr:0.00006, val_loss:0.69069, val_acc:0.65312\n",
      "best_test_auc(val) is:  0.653125\n",
      "current_loss:  0.6911488980054855\n"
     ]
    },
    {
     "name": "stderr",
     "output_type": "stream",
     "text": [
      "\n",
      "6it [00:00,  8.23it/s]"
     ]
    },
    {
     "name": "stdout",
     "output_type": "stream",
     "text": [
      "epoch:18,                 lr:0.00006,                 train_loss:0.69248,                 train_acc:0.68750\n"
     ]
    },
    {
     "name": "stderr",
     "output_type": "stream",
     "text": [
      "20it [00:00, 33.40it/s]"
     ]
    },
    {
     "name": "stdout",
     "output_type": "stream",
     "text": [
      "epoch:18, lr:0.00006, train_loss:0.69125, train_acc:0.66836\n"
     ]
    },
    {
     "name": "stderr",
     "output_type": "stream",
     "text": [
      "\n",
      "10it [00:00, 31.96it/s]"
     ]
    },
    {
     "name": "stdout",
     "output_type": "stream",
     "text": [
      "epoch:18,                         lr:0.00006,                         val_loss:0.69496,                         val_acc:0.64062\n",
      "epoch:18, lr:0.00006, val_loss:0.69091, val_acc:0.65313\n",
      "best_test_auc(val) is:  0.6531250000000001\n",
      "current_loss:  0.6912492871284486\n"
     ]
    },
    {
     "name": "stderr",
     "output_type": "stream",
     "text": [
      "\n",
      "7it [00:00,  8.88it/s]"
     ]
    },
    {
     "name": "stdout",
     "output_type": "stream",
     "text": [
      "epoch:19,                 lr:0.00005,                 train_loss:0.68883,                 train_acc:0.61719\n"
     ]
    },
    {
     "name": "stderr",
     "output_type": "stream",
     "text": [
      "20it [00:00, 36.58it/s]"
     ]
    },
    {
     "name": "stdout",
     "output_type": "stream",
     "text": [
      "epoch:19, lr:0.00005, train_loss:0.69071, train_acc:0.66680\n"
     ]
    },
    {
     "name": "stderr",
     "output_type": "stream",
     "text": [
      "\n",
      "10it [00:00, 33.74it/s]"
     ]
    },
    {
     "name": "stdout",
     "output_type": "stream",
     "text": [
      "epoch:19,                         lr:0.00005,                         val_loss:0.69065,                         val_acc:0.67188\n",
      "epoch:19, lr:0.00005, val_loss:0.69101, val_acc:0.65312\n",
      "best_test_auc(val) is:  0.653125\n",
      "current_loss:  0.6907129496335984\n"
     ]
    },
    {
     "name": "stderr",
     "output_type": "stream",
     "text": [
      "\n",
      "5it [00:00,  9.67it/s]"
     ]
    },
    {
     "name": "stdout",
     "output_type": "stream",
     "text": [
      "epoch:20,                 lr:0.00005,                 train_loss:0.69023,                 train_acc:0.67969\n"
     ]
    },
    {
     "name": "stderr",
     "output_type": "stream",
     "text": [
      "20it [00:00, 36.09it/s]\n"
     ]
    },
    {
     "name": "stdout",
     "output_type": "stream",
     "text": [
      "epoch:20, lr:0.00005, train_loss:0.69076, train_acc:0.66641\n"
     ]
    },
    {
     "name": "stderr",
     "output_type": "stream",
     "text": [
      "10it [00:00, 33.75it/s]"
     ]
    },
    {
     "name": "stdout",
     "output_type": "stream",
     "text": [
      "epoch:20,                         lr:0.00005,                         val_loss:0.69436,                         val_acc:0.67969\n",
      "epoch:20, lr:0.00005, val_loss:0.69090, val_acc:0.65313\n",
      "best_test_auc(val) is:  0.6531250000000001\n",
      "current_loss:  0.6907618463039398\n"
     ]
    },
    {
     "name": "stderr",
     "output_type": "stream",
     "text": [
      "\n",
      "9it [00:00,  7.89it/s]"
     ]
    },
    {
     "name": "stdout",
     "output_type": "stream",
     "text": [
      "epoch:21,                 lr:0.00004,                 train_loss:0.69007,                 train_acc:0.68750\n"
     ]
    },
    {
     "name": "stderr",
     "output_type": "stream",
     "text": [
      "20it [00:00, 33.89it/s]\n"
     ]
    },
    {
     "name": "stdout",
     "output_type": "stream",
     "text": [
      "epoch:21, lr:0.00004, train_loss:0.69071, train_acc:0.66680\n"
     ]
    },
    {
     "name": "stderr",
     "output_type": "stream",
     "text": [
      "10it [00:00, 31.66it/s]"
     ]
    },
    {
     "name": "stdout",
     "output_type": "stream",
     "text": [
      "epoch:21,                         lr:0.00004,                         val_loss:0.68913,                         val_acc:0.59375\n",
      "epoch:21, lr:0.00004, val_loss:0.69079, val_acc:0.65313\n",
      "best_test_auc(val) is:  0.6531250000000001\n",
      "current_loss:  0.69071224629879\n"
     ]
    },
    {
     "name": "stderr",
     "output_type": "stream",
     "text": [
      "\n",
      "9it [00:00,  7.17it/s]"
     ]
    },
    {
     "name": "stdout",
     "output_type": "stream",
     "text": [
      "epoch:22,                 lr:0.00004,                 train_loss:0.68781,                 train_acc:0.68750\n"
     ]
    },
    {
     "name": "stderr",
     "output_type": "stream",
     "text": [
      "20it [00:00, 36.71it/s]"
     ]
    },
    {
     "name": "stdout",
     "output_type": "stream",
     "text": [
      "epoch:22, lr:0.00004, train_loss:0.69062, train_acc:0.66563\n"
     ]
    },
    {
     "name": "stderr",
     "output_type": "stream",
     "text": [
      "\n",
      "10it [00:00, 33.35it/s]"
     ]
    },
    {
     "name": "stdout",
     "output_type": "stream",
     "text": [
      "epoch:22,                         lr:0.00004,                         val_loss:0.69018,                         val_acc:0.66406\n",
      "epoch:22, lr:0.00004, val_loss:0.69092, val_acc:0.65312\n",
      "best_test_auc(val) is:  0.653125\n",
      "current_loss:  0.6906182020902634\n"
     ]
    },
    {
     "name": "stderr",
     "output_type": "stream",
     "text": [
      "\n",
      "5it [00:00,  9.47it/s]"
     ]
    },
    {
     "name": "stdout",
     "output_type": "stream",
     "text": [
      "epoch:23,                 lr:0.00004,                 train_loss:0.69902,                 train_acc:0.71094\n"
     ]
    },
    {
     "name": "stderr",
     "output_type": "stream",
     "text": [
      "20it [00:00, 32.43it/s]"
     ]
    },
    {
     "name": "stdout",
     "output_type": "stream",
     "text": [
      "epoch:23, lr:0.00004, train_loss:0.69083, train_acc:0.66641\n"
     ]
    },
    {
     "name": "stderr",
     "output_type": "stream",
     "text": [
      "\n",
      "10it [00:00, 32.49it/s]"
     ]
    },
    {
     "name": "stdout",
     "output_type": "stream",
     "text": [
      "epoch:23,                         lr:0.00004,                         val_loss:0.69323,                         val_acc:0.64844\n",
      "epoch:23, lr:0.00004, val_loss:0.69091, val_acc:0.65312\n",
      "best_test_auc(val) is:  0.653125\n",
      "current_loss:  0.6908305555582046\n"
     ]
    },
    {
     "name": "stderr",
     "output_type": "stream",
     "text": [
      "\n",
      "6it [00:00,  8.68it/s]"
     ]
    },
    {
     "name": "stdout",
     "output_type": "stream",
     "text": [
      "epoch:24,                 lr:0.00004,                 train_loss:0.69094,                 train_acc:0.66406\n"
     ]
    },
    {
     "name": "stderr",
     "output_type": "stream",
     "text": [
      "20it [00:00, 35.15it/s]"
     ]
    },
    {
     "name": "stdout",
     "output_type": "stream",
     "text": [
      "epoch:24, lr:0.00004, train_loss:0.69044, train_acc:0.66758\n"
     ]
    },
    {
     "name": "stderr",
     "output_type": "stream",
     "text": [
      "\n",
      "10it [00:00, 32.08it/s]"
     ]
    },
    {
     "name": "stdout",
     "output_type": "stream",
     "text": [
      "epoch:24,                         lr:0.00004,                         val_loss:0.69589,                         val_acc:0.69531\n",
      "epoch:24, lr:0.00004, val_loss:0.69105, val_acc:0.65312\n",
      "best_test_auc(val) is:  0.653125\n",
      "current_loss:  0.6904357820749284\n"
     ]
    },
    {
     "name": "stderr",
     "output_type": "stream",
     "text": [
      "\n",
      "4it [00:00,  9.46it/s]"
     ]
    },
    {
     "name": "stdout",
     "output_type": "stream",
     "text": [
      "epoch:25,                 lr:0.00003,                 train_loss:0.69681,                 train_acc:0.63281\n"
     ]
    },
    {
     "name": "stderr",
     "output_type": "stream",
     "text": [
      "20it [00:00, 35.10it/s]"
     ]
    },
    {
     "name": "stdout",
     "output_type": "stream",
     "text": [
      "epoch:25, lr:0.00003, train_loss:0.69057, train_acc:0.66797\n"
     ]
    },
    {
     "name": "stderr",
     "output_type": "stream",
     "text": [
      "\n",
      "10it [00:00, 38.57it/s]"
     ]
    },
    {
     "name": "stdout",
     "output_type": "stream",
     "text": [
      "epoch:25,                         lr:0.00003,                         val_loss:0.68588,                         val_acc:0.60938\n",
      "epoch:25, lr:0.00003, val_loss:0.69132, val_acc:0.65313\n",
      "best_test_auc(val) is:  0.6531250000000001\n",
      "current_loss:  0.6905730813741685\n"
     ]
    },
    {
     "name": "stderr",
     "output_type": "stream",
     "text": [
      "\n",
      "5it [00:00,  9.39it/s]"
     ]
    },
    {
     "name": "stdout",
     "output_type": "stream",
     "text": [
      "epoch:26,                 lr:0.00003,                 train_loss:0.68713,                 train_acc:0.63281\n"
     ]
    },
    {
     "name": "stderr",
     "output_type": "stream",
     "text": [
      "20it [00:00, 33.89it/s]"
     ]
    },
    {
     "name": "stdout",
     "output_type": "stream",
     "text": [
      "epoch:26, lr:0.00003, train_loss:0.69081, train_acc:0.66758\n"
     ]
    },
    {
     "name": "stderr",
     "output_type": "stream",
     "text": [
      "\n",
      "10it [00:00, 34.69it/s]"
     ]
    },
    {
     "name": "stdout",
     "output_type": "stream",
     "text": [
      "epoch:26,                         lr:0.00003,                         val_loss:0.69858,                         val_acc:0.68750\n",
      "epoch:26, lr:0.00003, val_loss:0.69156, val_acc:0.65312\n",
      "best_test_auc(val) is:  0.653125\n",
      "current_loss:  0.6908110678195954\n"
     ]
    },
    {
     "name": "stderr",
     "output_type": "stream",
     "text": [
      "\n",
      "5it [00:00,  9.30it/s]"
     ]
    },
    {
     "name": "stdout",
     "output_type": "stream",
     "text": [
      "epoch:27,                 lr:0.00003,                 train_loss:0.68742,                 train_acc:0.69531\n"
     ]
    },
    {
     "name": "stderr",
     "output_type": "stream",
     "text": [
      "20it [00:00, 35.73it/s]"
     ]
    },
    {
     "name": "stdout",
     "output_type": "stream",
     "text": [
      "epoch:27, lr:0.00003, train_loss:0.69031, train_acc:0.66523\n"
     ]
    },
    {
     "name": "stderr",
     "output_type": "stream",
     "text": [
      "\n",
      "10it [00:00, 34.44it/s]"
     ]
    },
    {
     "name": "stdout",
     "output_type": "stream",
     "text": [
      "epoch:27,                         lr:0.00003,                         val_loss:0.69099,                         val_acc:0.61719\n",
      "epoch:27, lr:0.00003, val_loss:0.69101, val_acc:0.65312\n",
      "best_test_auc(val) is:  0.653125\n",
      "current_loss:  0.6903051972389221\n"
     ]
    },
    {
     "name": "stderr",
     "output_type": "stream",
     "text": [
      "\n",
      "8it [00:00,  8.06it/s]"
     ]
    },
    {
     "name": "stdout",
     "output_type": "stream",
     "text": [
      "epoch:28,                 lr:0.00003,                 train_loss:0.69318,                 train_acc:0.64844\n"
     ]
    },
    {
     "name": "stderr",
     "output_type": "stream",
     "text": [
      "20it [00:00, 39.55it/s]"
     ]
    },
    {
     "name": "stdout",
     "output_type": "stream",
     "text": [
      "epoch:28, lr:0.00003, train_loss:0.69090, train_acc:0.66680\n"
     ]
    },
    {
     "name": "stderr",
     "output_type": "stream",
     "text": [
      "\n",
      "10it [00:00, 33.39it/s]"
     ]
    },
    {
     "name": "stdout",
     "output_type": "stream",
     "text": [
      "epoch:28,                         lr:0.00003,                         val_loss:0.68783,                         val_acc:0.61719\n",
      "epoch:28, lr:0.00003, val_loss:0.69096, val_acc:0.65312\n",
      "best_test_auc(val) is:  0.653125\n",
      "current_loss:  0.6909022331237793\n"
     ]
    },
    {
     "name": "stderr",
     "output_type": "stream",
     "text": [
      "\n",
      "5it [00:00,  9.79it/s]"
     ]
    },
    {
     "name": "stdout",
     "output_type": "stream",
     "text": [
      "epoch:29,                 lr:0.00003,                 train_loss:0.68991,                 train_acc:0.69531\n"
     ]
    },
    {
     "name": "stderr",
     "output_type": "stream",
     "text": [
      "20it [00:00, 33.32it/s]"
     ]
    },
    {
     "name": "stdout",
     "output_type": "stream",
     "text": [
      "epoch:29, lr:0.00003, train_loss:0.69082, train_acc:0.66602\n"
     ]
    },
    {
     "name": "stderr",
     "output_type": "stream",
     "text": [
      "\n",
      "10it [00:00, 32.21it/s]"
     ]
    },
    {
     "name": "stdout",
     "output_type": "stream",
     "text": [
      "epoch:29,                         lr:0.00003,                         val_loss:0.68844,                         val_acc:0.60156\n",
      "epoch:29, lr:0.00003, val_loss:0.69160, val_acc:0.65312\n",
      "best_test_auc(val) is:  0.653125\n",
      "current_loss:  0.6908247768878936\n"
     ]
    },
    {
     "name": "stderr",
     "output_type": "stream",
     "text": [
      "\n",
      "7it [00:00,  6.57it/s]"
     ]
    },
    {
     "name": "stdout",
     "output_type": "stream",
     "text": [
      "epoch:30,                 lr:0.00002,                 train_loss:0.68942,                 train_acc:0.66406\n"
     ]
    },
    {
     "name": "stderr",
     "output_type": "stream",
     "text": [
      "20it [00:00, 33.42it/s]"
     ]
    },
    {
     "name": "stdout",
     "output_type": "stream",
     "text": [
      "epoch:30, lr:0.00002, train_loss:0.69029, train_acc:0.66484\n"
     ]
    },
    {
     "name": "stderr",
     "output_type": "stream",
     "text": [
      "\n",
      "10it [00:00, 34.65it/s]"
     ]
    },
    {
     "name": "stdout",
     "output_type": "stream",
     "text": [
      "epoch:30,                         lr:0.00002,                         val_loss:0.69438,                         val_acc:0.63281\n",
      "epoch:30, lr:0.00002, val_loss:0.69146, val_acc:0.65312\n",
      "best_test_auc(val) is:  0.653125\n",
      "current_loss:  0.6902928173542022\n"
     ]
    },
    {
     "name": "stderr",
     "output_type": "stream",
     "text": [
      "\n",
      "7it [00:00,  8.49it/s]"
     ]
    },
    {
     "name": "stdout",
     "output_type": "stream",
     "text": [
      "epoch:31,                 lr:0.00002,                 train_loss:0.69118,                 train_acc:0.74219\n"
     ]
    },
    {
     "name": "stderr",
     "output_type": "stream",
     "text": [
      "20it [00:00, 36.14it/s]"
     ]
    },
    {
     "name": "stdout",
     "output_type": "stream",
     "text": [
      "epoch:31, lr:0.00002, train_loss:0.69040, train_acc:0.66680\n"
     ]
    },
    {
     "name": "stderr",
     "output_type": "stream",
     "text": [
      "\n",
      "10it [00:00, 32.63it/s]"
     ]
    },
    {
     "name": "stdout",
     "output_type": "stream",
     "text": [
      "epoch:31,                         lr:0.00002,                         val_loss:0.69603,                         val_acc:0.67188\n",
      "epoch:31, lr:0.00002, val_loss:0.69103, val_acc:0.65313\n",
      "best_test_auc(val) is:  0.6531250000000001\n",
      "current_loss:  0.6903985291719437\n"
     ]
    },
    {
     "name": "stderr",
     "output_type": "stream",
     "text": [
      "\n",
      "6it [00:00,  8.40it/s]"
     ]
    },
    {
     "name": "stdout",
     "output_type": "stream",
     "text": [
      "epoch:32,                 lr:0.00002,                 train_loss:0.69144,                 train_acc:0.67188\n"
     ]
    },
    {
     "name": "stderr",
     "output_type": "stream",
     "text": [
      "20it [00:00, 36.76it/s]"
     ]
    },
    {
     "name": "stdout",
     "output_type": "stream",
     "text": [
      "epoch:32, lr:0.00002, train_loss:0.69099, train_acc:0.66602\n"
     ]
    },
    {
     "name": "stderr",
     "output_type": "stream",
     "text": [
      "\n",
      "10it [00:00, 31.82it/s]"
     ]
    },
    {
     "name": "stdout",
     "output_type": "stream",
     "text": [
      "epoch:32,                         lr:0.00002,                         val_loss:0.68407,                         val_acc:0.60938\n",
      "epoch:32, lr:0.00002, val_loss:0.69147, val_acc:0.65391\n",
      "best_test_auc(val) is:  0.6539062499999999\n",
      "current_loss:  0.690987280011177\n"
     ]
    },
    {
     "name": "stderr",
     "output_type": "stream",
     "text": [
      "\n",
      "9it [00:00,  7.00it/s]"
     ]
    },
    {
     "name": "stdout",
     "output_type": "stream",
     "text": [
      "epoch:33,                 lr:0.00002,                 train_loss:0.68684,                 train_acc:0.68750\n"
     ]
    },
    {
     "name": "stderr",
     "output_type": "stream",
     "text": [
      "20it [00:00, 33.91it/s]"
     ]
    },
    {
     "name": "stdout",
     "output_type": "stream",
     "text": [
      "epoch:33, lr:0.00002, train_loss:0.69046, train_acc:0.67070\n"
     ]
    },
    {
     "name": "stderr",
     "output_type": "stream",
     "text": [
      "\n",
      "10it [00:00, 36.82it/s]"
     ]
    },
    {
     "name": "stdout",
     "output_type": "stream",
     "text": [
      "epoch:33,                         lr:0.00002,                         val_loss:0.69891,                         val_acc:0.71875\n",
      "epoch:33, lr:0.00002, val_loss:0.69150, val_acc:0.65312\n",
      "best_test_auc(val) is:  0.653125\n",
      "current_loss:  0.6904587090015412\n"
     ]
    },
    {
     "name": "stderr",
     "output_type": "stream",
     "text": [
      "\n",
      "5it [00:00,  9.52it/s]"
     ]
    },
    {
     "name": "stdout",
     "output_type": "stream",
     "text": [
      "epoch:34,                 lr:0.00002,                 train_loss:0.68126,                 train_acc:0.68750\n"
     ]
    },
    {
     "name": "stderr",
     "output_type": "stream",
     "text": [
      "20it [00:00, 34.97it/s]"
     ]
    },
    {
     "name": "stdout",
     "output_type": "stream",
     "text": [
      "epoch:34, lr:0.00002, train_loss:0.69027, train_acc:0.66602\n"
     ]
    },
    {
     "name": "stderr",
     "output_type": "stream",
     "text": [
      "\n",
      "10it [00:00, 31.10it/s]"
     ]
    },
    {
     "name": "stdout",
     "output_type": "stream",
     "text": [
      "epoch:34,                         lr:0.00002,                         val_loss:0.68626,                         val_acc:0.59375\n",
      "epoch:34, lr:0.00002, val_loss:0.69124, val_acc:0.65312\n",
      "best_test_auc(val) is:  0.653125\n",
      "current_loss:  0.6902656406164168\n"
     ]
    },
    {
     "name": "stderr",
     "output_type": "stream",
     "text": [
      "\n",
      "6it [00:00,  9.22it/s]"
     ]
    },
    {
     "name": "stdout",
     "output_type": "stream",
     "text": [
      "epoch:35,                 lr:0.00002,                 train_loss:0.69818,                 train_acc:0.71875\n"
     ]
    },
    {
     "name": "stderr",
     "output_type": "stream",
     "text": [
      "20it [00:00, 38.08it/s]"
     ]
    },
    {
     "name": "stdout",
     "output_type": "stream",
     "text": [
      "epoch:35, lr:0.00002, train_loss:0.69042, train_acc:0.66953\n"
     ]
    },
    {
     "name": "stderr",
     "output_type": "stream",
     "text": [
      "\n",
      "0it [00:00, ?it/s]\n"
     ]
    },
    {
     "ename": "KeyboardInterrupt",
     "evalue": "",
     "output_type": "error",
     "traceback": [
      "\u001b[0;31m---------------------------------------------------------------------------\u001b[0m",
      "\u001b[0;31mKeyboardInterrupt\u001b[0m                         Traceback (most recent call last)",
      "\u001b[0;32m<ipython-input-8-965765e7da6b>\u001b[0m in \u001b[0;36m<module>\u001b[0;34m\u001b[0m\n\u001b[1;32m     10\u001b[0m \u001b[0mprint\u001b[0m\u001b[0;34m(\u001b[0m\u001b[0;34m\"start train!!!\"\u001b[0m\u001b[0;34m)\u001b[0m\u001b[0;34m\u001b[0m\u001b[0;34m\u001b[0m\u001b[0m\n\u001b[1;32m     11\u001b[0m \u001b[0;31m#     best_age_model = main(train_list, valid_list, model_type=\"age\")\u001b[0m\u001b[0;34m\u001b[0m\u001b[0;34m\u001b[0m\u001b[0;34m\u001b[0m\u001b[0m\n\u001b[0;32m---> 12\u001b[0;31m \u001b[0mbest_gender_model\u001b[0m \u001b[0;34m=\u001b[0m \u001b[0mmain\u001b[0m\u001b[0;34m(\u001b[0m\u001b[0mtrain_list\u001b[0m\u001b[0;34m,\u001b[0m \u001b[0mvalid_list\u001b[0m\u001b[0;34m,\u001b[0m \u001b[0mmodel_type\u001b[0m\u001b[0;34m=\u001b[0m\u001b[0;34m\"gender\"\u001b[0m\u001b[0;34m)\u001b[0m\u001b[0;34m\u001b[0m\u001b[0;34m\u001b[0m\u001b[0m\n\u001b[0m",
      "\u001b[0;32m<ipython-input-5-489dfc3c7fa6>\u001b[0m in \u001b[0;36mmain\u001b[0;34m(train_list, valid_list, model_type)\u001b[0m\n\u001b[1;32m    129\u001b[0m             \u001b[0;32mif\u001b[0m \u001b[0mmax\u001b[0m\u001b[0;34m(\u001b[0m\u001b[0mlengths\u001b[0m\u001b[0;34m)\u001b[0m \u001b[0;34m>\u001b[0m \u001b[0;36m400\u001b[0m\u001b[0;34m:\u001b[0m\u001b[0;34m\u001b[0m\u001b[0;34m\u001b[0m\u001b[0m\n\u001b[1;32m    130\u001b[0m                 \u001b[0;32mcontinue\u001b[0m\u001b[0;34m\u001b[0m\u001b[0;34m\u001b[0m\u001b[0m\n\u001b[0;32m--> 131\u001b[0;31m             \u001b[0mtorch\u001b[0m\u001b[0;34m.\u001b[0m\u001b[0mcuda\u001b[0m\u001b[0;34m.\u001b[0m\u001b[0mempty_cache\u001b[0m\u001b[0;34m(\u001b[0m\u001b[0;34m)\u001b[0m\u001b[0;34m\u001b[0m\u001b[0;34m\u001b[0m\u001b[0m\n\u001b[0m\u001b[1;32m    132\u001b[0m             \u001b[0;31m# input: [batch, time_step, input_size]\u001b[0m\u001b[0;34m\u001b[0m\u001b[0;34m\u001b[0m\u001b[0;34m\u001b[0m\u001b[0m\n\u001b[1;32m    133\u001b[0m             \u001b[0;32mif\u001b[0m \u001b[0mmodel_type\u001b[0m \u001b[0;34m==\u001b[0m \u001b[0;34m\"gender\"\u001b[0m\u001b[0;34m:\u001b[0m\u001b[0;34m\u001b[0m\u001b[0;34m\u001b[0m\u001b[0m\n",
      "\u001b[0;32m~/anaconda3/lib/python3.7/site-packages/torch/cuda/memory.py\u001b[0m in \u001b[0;36mempty_cache\u001b[0;34m()\u001b[0m\n\u001b[1;32m     84\u001b[0m     \"\"\"\n\u001b[1;32m     85\u001b[0m     \u001b[0;32mif\u001b[0m \u001b[0mis_initialized\u001b[0m\u001b[0;34m(\u001b[0m\u001b[0;34m)\u001b[0m\u001b[0;34m:\u001b[0m\u001b[0;34m\u001b[0m\u001b[0;34m\u001b[0m\u001b[0m\n\u001b[0;32m---> 86\u001b[0;31m         \u001b[0mtorch\u001b[0m\u001b[0;34m.\u001b[0m\u001b[0m_C\u001b[0m\u001b[0;34m.\u001b[0m\u001b[0m_cuda_emptyCache\u001b[0m\u001b[0;34m(\u001b[0m\u001b[0;34m)\u001b[0m\u001b[0;34m\u001b[0m\u001b[0;34m\u001b[0m\u001b[0m\n\u001b[0m\u001b[1;32m     87\u001b[0m \u001b[0;34m\u001b[0m\u001b[0m\n\u001b[1;32m     88\u001b[0m \u001b[0;34m\u001b[0m\u001b[0m\n",
      "\u001b[0;31mKeyboardInterrupt\u001b[0m: "
     ]
    }
   ],
   "source": [
    "# train_grouped = train_record.groupby(\"user_id\")\n",
    "# test_grouped = test_record.groupby(\"user_id\")\n",
    "train_grouped = sample_grouped\n",
    "\n",
    "train_list = train_grouped.agg(list).reset_index()\n",
    "train_list = pd.merge(train_list, train_user, on=\"user_id\")\n",
    "\n",
    "train_list, valid_list = train_test_split(train_list, test_size=0.33, random_state=42)\n",
    "\n",
    "print(\"start train!!!\")\n",
    "#     best_age_model = main(train_list, valid_list, model_type=\"age\")\n",
    "best_gender_model = main(train_list, valid_list, model_type=\"gender\")"
   ]
  },
  {
   "cell_type": "code",
   "execution_count": null,
   "metadata": {},
   "outputs": [],
   "source": []
  }
 ],
 "metadata": {
  "kernelspec": {
   "display_name": "Python 3",
   "language": "python",
   "name": "python3"
  },
  "language_info": {
   "codemirror_mode": {
    "name": "ipython",
    "version": 3
   },
   "file_extension": ".py",
   "mimetype": "text/x-python",
   "name": "python",
   "nbconvert_exporter": "python",
   "pygments_lexer": "ipython3",
   "version": "3.7.6"
  }
 },
 "nbformat": 4,
 "nbformat_minor": 4
}

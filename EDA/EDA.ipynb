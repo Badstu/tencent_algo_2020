{
 "cells": [
  {
   "cell_type": "code",
   "execution_count": 4,
   "metadata": {},
   "outputs": [
    {
     "name": "stdout",
     "output_type": "stream",
     "text": [
      "[Errno 2] No such file or directory: 'tencent_algo_2020/'\n",
      "/home/sayhi/workspaces/tencent_algo_2020\n"
     ]
    }
   ],
   "source": [
    "cd tencent_algo_2020/"
   ]
  },
  {
   "cell_type": "code",
   "execution_count": 5,
   "metadata": {},
   "outputs": [],
   "source": [
    "import time\n",
    "import data\n",
    "import lightgbm as lgb\n",
    "import numpy as np\n",
    "import os\n",
    "import sys\n",
    "import re\n",
    "import pandas as pd\n",
    "import matplotlib\n",
    "from tqdm import tqdm\n",
    "from sklearn.model_selection import train_test_split\n",
    "from sklearn.datasets import load_iris\n",
    "from sklearn.metrics import mean_squared_error, roc_auc_score, accuracy_score\n",
    "from gensim.models import word2vec, keyedvectors\n",
    "import logging"
   ]
  },
  {
   "cell_type": "code",
   "execution_count": 6,
   "metadata": {},
   "outputs": [],
   "source": [
    "train_ad, train_click, train_user, test_ad, test_click = data.load_data()\n",
    "# train_record\n",
    "train_record = pd.merge(train_click, train_ad, on=\"creative_id\")\n",
    "# test_record\n",
    "test_record = pd.merge(test_click, test_ad, on=\"creative_id\")\n",
    "\n",
    "train_grouped = train_record.groupby(\"user_id\")\n",
    "test_grouped = test_record.groupby(\"user_id\")"
   ]
  },
  {
   "cell_type": "code",
   "execution_count": null,
   "metadata": {},
   "outputs": [],
   "source": [
    "list_train = train_grouped.agg(list).reset()"
   ]
  },
  {
   "cell_type": "code",
   "execution_count": 12,
   "metadata": {},
   "outputs": [],
   "source": [
    "count = train_grouped.count()[\"ad_id\"]"
   ]
  },
  {
   "cell_type": "code",
   "execution_count": 19,
   "metadata": {},
   "outputs": [
    {
     "data": {
      "text/plain": [
       "user_id\n",
       "592868        2\n",
       "306941        3\n",
       "229147        3\n",
       "196804        3\n",
       "697730        3\n",
       "          ...  \n",
       "549175     1273\n",
       "178333     1321\n",
       "677301     1661\n",
       "157585     1706\n",
       "839368    16868\n",
       "Name: ad_id, Length: 900000, dtype: int64"
      ]
     },
     "execution_count": 19,
     "metadata": {},
     "output_type": "execute_result"
    }
   ],
   "source": [
    "count.sort_values()"
   ]
  },
  {
   "cell_type": "code",
   "execution_count": 34,
   "metadata": {},
   "outputs": [
    {
     "data": {
      "text/plain": [
       "271"
      ]
     },
     "execution_count": 34,
     "metadata": {},
     "output_type": "execute_result"
    }
   ],
   "source": [
    "(count > 400).sum()"
   ]
  },
  {
   "cell_type": "code",
   "execution_count": null,
   "metadata": {},
   "outputs": [],
   "source": []
  },
  {
   "cell_type": "code",
   "execution_count": null,
   "metadata": {},
   "outputs": [],
   "source": []
  },
  {
   "cell_type": "code",
   "execution_count": 1,
   "metadata": {},
   "outputs": [],
   "source": [
    "from IPython.core.interactiveshell import InteractiveShell\n",
    "InteractiveShell.ast_node_interactivity = \"all\" "
   ]
  },
  {
   "cell_type": "code",
   "execution_count": 2,
   "metadata": {
    "jupyter": {
     "source_hidden": true
    }
   },
   "outputs": [],
   "source": [
    "import os\n",
    "import sys\n",
    "import pandas as pd\n",
    "import numpy as np\n",
    "import matplotlib\n",
    "%matplotlib inline"
   ]
  },
  {
   "cell_type": "code",
   "execution_count": 3,
   "metadata": {},
   "outputs": [],
   "source": [
    "train_root = \"../dataset/train/\"\n",
    "train_user_path = os.path.join(train_root, \"user.csv\")\n",
    "train_ad_path = os.path.join(train_root, \"ad.csv\")\n",
    "train_click_path = os.path.join(train_root, \"click_log.csv\")\n",
    "\n",
    "test_root = \"../dataset/test/\"\n",
    "test_ad_path = os.path.join(test_root, \"ad.csv\")\n",
    "test_click_path = os.path.join(test_root, \"click_log.csv\")"
   ]
  },
  {
   "cell_type": "code",
   "execution_count": 4,
   "metadata": {},
   "outputs": [],
   "source": [
    "train_ad = pd.read_csv(train_ad_path, na_values=\"\\\\N\")\n",
    "train_click = pd.read_csv(train_click_path, na_values=\"\\\\N\")\n",
    "train_user = pd.read_csv(train_user_path, na_values=\"\\\\N\")\n",
    "\n",
    "test_ad = pd.read_csv(test_ad_path, na_values=\"\\\\N\")\n",
    "test_click = pd.read_csv(test_click_path, na_values=\"\\\\N\")"
   ]
  },
  {
   "cell_type": "code",
   "execution_count": 5,
   "metadata": {},
   "outputs": [
    {
     "data": {
      "text/html": [
       "<div>\n",
       "<style scoped>\n",
       "    .dataframe tbody tr th:only-of-type {\n",
       "        vertical-align: middle;\n",
       "    }\n",
       "\n",
       "    .dataframe tbody tr th {\n",
       "        vertical-align: top;\n",
       "    }\n",
       "\n",
       "    .dataframe thead th {\n",
       "        text-align: right;\n",
       "    }\n",
       "</style>\n",
       "<table border=\"1\" class=\"dataframe\">\n",
       "  <thead>\n",
       "    <tr style=\"text-align: right;\">\n",
       "      <th></th>\n",
       "      <th>time</th>\n",
       "      <th>user_id</th>\n",
       "      <th>creative_id</th>\n",
       "      <th>click_times</th>\n",
       "    </tr>\n",
       "  </thead>\n",
       "  <tbody>\n",
       "    <tr>\n",
       "      <td>0</td>\n",
       "      <td>9</td>\n",
       "      <td>30920</td>\n",
       "      <td>567330</td>\n",
       "      <td>1</td>\n",
       "    </tr>\n",
       "    <tr>\n",
       "      <td>1</td>\n",
       "      <td>65</td>\n",
       "      <td>30920</td>\n",
       "      <td>3072255</td>\n",
       "      <td>1</td>\n",
       "    </tr>\n",
       "    <tr>\n",
       "      <td>2</td>\n",
       "      <td>56</td>\n",
       "      <td>30920</td>\n",
       "      <td>2361327</td>\n",
       "      <td>1</td>\n",
       "    </tr>\n",
       "    <tr>\n",
       "      <td>3</td>\n",
       "      <td>6</td>\n",
       "      <td>309204</td>\n",
       "      <td>325532</td>\n",
       "      <td>1</td>\n",
       "    </tr>\n",
       "    <tr>\n",
       "      <td>4</td>\n",
       "      <td>59</td>\n",
       "      <td>309204</td>\n",
       "      <td>2746730</td>\n",
       "      <td>1</td>\n",
       "    </tr>\n",
       "    <tr>\n",
       "      <td>...</td>\n",
       "      <td>...</td>\n",
       "      <td>...</td>\n",
       "      <td>...</td>\n",
       "      <td>...</td>\n",
       "    </tr>\n",
       "    <tr>\n",
       "      <td>30082766</td>\n",
       "      <td>6</td>\n",
       "      <td>30920</td>\n",
       "      <td>228129</td>\n",
       "      <td>1</td>\n",
       "    </tr>\n",
       "    <tr>\n",
       "      <td>30082767</td>\n",
       "      <td>57</td>\n",
       "      <td>30920</td>\n",
       "      <td>2361397</td>\n",
       "      <td>1</td>\n",
       "    </tr>\n",
       "    <tr>\n",
       "      <td>30082768</td>\n",
       "      <td>26</td>\n",
       "      <td>30920</td>\n",
       "      <td>629802</td>\n",
       "      <td>1</td>\n",
       "    </tr>\n",
       "    <tr>\n",
       "      <td>30082769</td>\n",
       "      <td>86</td>\n",
       "      <td>30920</td>\n",
       "      <td>2713031</td>\n",
       "      <td>1</td>\n",
       "    </tr>\n",
       "    <tr>\n",
       "      <td>30082770</td>\n",
       "      <td>25</td>\n",
       "      <td>30920</td>\n",
       "      <td>629802</td>\n",
       "      <td>1</td>\n",
       "    </tr>\n",
       "  </tbody>\n",
       "</table>\n",
       "<p>30082771 rows × 4 columns</p>\n",
       "</div>"
      ],
      "text/plain": [
       "          time  user_id  creative_id  click_times\n",
       "0            9    30920       567330            1\n",
       "1           65    30920      3072255            1\n",
       "2           56    30920      2361327            1\n",
       "3            6   309204       325532            1\n",
       "4           59   309204      2746730            1\n",
       "...        ...      ...          ...          ...\n",
       "30082766     6    30920       228129            1\n",
       "30082767    57    30920      2361397            1\n",
       "30082768    26    30920       629802            1\n",
       "30082769    86    30920      2713031            1\n",
       "30082770    25    30920       629802            1\n",
       "\n",
       "[30082771 rows x 4 columns]"
      ]
     },
     "execution_count": 5,
     "metadata": {},
     "output_type": "execute_result"
    },
    {
     "data": {
      "text/html": [
       "<div>\n",
       "<style scoped>\n",
       "    .dataframe tbody tr th:only-of-type {\n",
       "        vertical-align: middle;\n",
       "    }\n",
       "\n",
       "    .dataframe tbody tr th {\n",
       "        vertical-align: top;\n",
       "    }\n",
       "\n",
       "    .dataframe thead th {\n",
       "        text-align: right;\n",
       "    }\n",
       "</style>\n",
       "<table border=\"1\" class=\"dataframe\">\n",
       "  <thead>\n",
       "    <tr style=\"text-align: right;\">\n",
       "      <th></th>\n",
       "      <th>time</th>\n",
       "      <th>user_id</th>\n",
       "      <th>creative_id</th>\n",
       "      <th>click_times</th>\n",
       "    </tr>\n",
       "  </thead>\n",
       "  <tbody>\n",
       "    <tr>\n",
       "      <td>0</td>\n",
       "      <td>20</td>\n",
       "      <td>3131989</td>\n",
       "      <td>645764</td>\n",
       "      <td>1</td>\n",
       "    </tr>\n",
       "    <tr>\n",
       "      <td>1</td>\n",
       "      <td>20</td>\n",
       "      <td>3131989</td>\n",
       "      <td>1027422</td>\n",
       "      <td>1</td>\n",
       "    </tr>\n",
       "    <tr>\n",
       "      <td>2</td>\n",
       "      <td>20</td>\n",
       "      <td>3131989</td>\n",
       "      <td>1106443</td>\n",
       "      <td>1</td>\n",
       "    </tr>\n",
       "    <tr>\n",
       "      <td>3</td>\n",
       "      <td>20</td>\n",
       "      <td>3131989</td>\n",
       "      <td>629802</td>\n",
       "      <td>1</td>\n",
       "    </tr>\n",
       "    <tr>\n",
       "      <td>4</td>\n",
       "      <td>59</td>\n",
       "      <td>3131989</td>\n",
       "      <td>2839769</td>\n",
       "      <td>1</td>\n",
       "    </tr>\n",
       "    <tr>\n",
       "      <td>...</td>\n",
       "      <td>...</td>\n",
       "      <td>...</td>\n",
       "      <td>...</td>\n",
       "      <td>...</td>\n",
       "    </tr>\n",
       "    <tr>\n",
       "      <td>33585507</td>\n",
       "      <td>16</td>\n",
       "      <td>3131989</td>\n",
       "      <td>585914</td>\n",
       "      <td>1</td>\n",
       "    </tr>\n",
       "    <tr>\n",
       "      <td>33585508</td>\n",
       "      <td>13</td>\n",
       "      <td>3131989</td>\n",
       "      <td>749134</td>\n",
       "      <td>1</td>\n",
       "    </tr>\n",
       "    <tr>\n",
       "      <td>33585509</td>\n",
       "      <td>12</td>\n",
       "      <td>3131989</td>\n",
       "      <td>589027</td>\n",
       "      <td>1</td>\n",
       "    </tr>\n",
       "    <tr>\n",
       "      <td>33585510</td>\n",
       "      <td>61</td>\n",
       "      <td>3131989</td>\n",
       "      <td>2404831</td>\n",
       "      <td>1</td>\n",
       "    </tr>\n",
       "    <tr>\n",
       "      <td>33585511</td>\n",
       "      <td>14</td>\n",
       "      <td>3131989</td>\n",
       "      <td>665822</td>\n",
       "      <td>1</td>\n",
       "    </tr>\n",
       "  </tbody>\n",
       "</table>\n",
       "<p>33585512 rows × 4 columns</p>\n",
       "</div>"
      ],
      "text/plain": [
       "          time  user_id  creative_id  click_times\n",
       "0           20  3131989       645764            1\n",
       "1           20  3131989      1027422            1\n",
       "2           20  3131989      1106443            1\n",
       "3           20  3131989       629802            1\n",
       "4           59  3131989      2839769            1\n",
       "...        ...      ...          ...          ...\n",
       "33585507    16  3131989       585914            1\n",
       "33585508    13  3131989       749134            1\n",
       "33585509    12  3131989       589027            1\n",
       "33585510    61  3131989      2404831            1\n",
       "33585511    14  3131989       665822            1\n",
       "\n",
       "[33585512 rows x 4 columns]"
      ]
     },
     "execution_count": 5,
     "metadata": {},
     "output_type": "execute_result"
    }
   ],
   "source": [
    "train_click\n",
    "test_click"
   ]
  },
  {
   "cell_type": "code",
   "execution_count": 6,
   "metadata": {},
   "outputs": [
    {
     "name": "stdout",
     "output_type": "stream",
     "text": [
      "(1686522,)\n",
      "(2481135,) (2618159,)\n"
     ]
    }
   ],
   "source": [
    "train_creative_id = train_click[\"creative_id\"]\n",
    "test_creative_id = test_click[\"creative_id\"]\n",
    "train_unique_creative = train_creative_id.unique()\n",
    "test_unique_creative = test_creative_id.unique()\n",
    "\n",
    "intersection = np.intersect1d(train_unique_creative, test_unique_creative)\n",
    "\n",
    "# train和test中重复的素材id\n",
    "print(intersection.shape)\n",
    "# train和test中各自的素材id数量\n",
    "print(train_unique_creative.shape, test_unique_creative.shape)"
   ]
  },
  {
   "cell_type": "code",
   "execution_count": 10,
   "metadata": {},
   "outputs": [
    {
     "name": "stdout",
     "output_type": "stream",
     "text": [
      "time           30082771\n",
      "user_id        30082771\n",
      "creative_id    30082771\n",
      "click_times    30082771\n",
      "dtype: int64 time           33585512\n",
      "user_id        33585512\n",
      "creative_id    33585512\n",
      "click_times    33585512\n",
      "dtype: int64\n"
     ]
    },
    {
     "data": {
      "text/plain": [
       "1      28426543\n",
       "2       1507449\n",
       "3         90356\n",
       "4         43047\n",
       "5          7507\n",
       "6          3512\n",
       "7          1529\n",
       "8          1486\n",
       "9           452\n",
       "10          270\n",
       "11          172\n",
       "12          116\n",
       "13           76\n",
       "14           62\n",
       "15           36\n",
       "16           34\n",
       "17           22\n",
       "18           21\n",
       "21           17\n",
       "20           13\n",
       "19           10\n",
       "22            5\n",
       "23            4\n",
       "26            3\n",
       "32            3\n",
       "27            3\n",
       "30            3\n",
       "24            3\n",
       "25            2\n",
       "29            2\n",
       "33            2\n",
       "37            2\n",
       "28            1\n",
       "67            1\n",
       "34            1\n",
       "35            1\n",
       "36            1\n",
       "43            1\n",
       "44            1\n",
       "50            1\n",
       "152           1\n",
       "Name: click_times, dtype: int64"
      ]
     },
     "execution_count": 10,
     "metadata": {},
     "output_type": "execute_result"
    },
    {
     "data": {
      "text/html": [
       "<div>\n",
       "<style scoped>\n",
       "    .dataframe tbody tr th:only-of-type {\n",
       "        vertical-align: middle;\n",
       "    }\n",
       "\n",
       "    .dataframe tbody tr th {\n",
       "        vertical-align: top;\n",
       "    }\n",
       "\n",
       "    .dataframe thead th {\n",
       "        text-align: right;\n",
       "    }\n",
       "</style>\n",
       "<table border=\"1\" class=\"dataframe\">\n",
       "  <thead>\n",
       "    <tr style=\"text-align: right;\">\n",
       "      <th></th>\n",
       "      <th>time</th>\n",
       "      <th>user_id</th>\n",
       "      <th>creative_id</th>\n",
       "      <th>click_times</th>\n",
       "    </tr>\n",
       "  </thead>\n",
       "  <tbody>\n",
       "    <tr>\n",
       "      <td>2212918</td>\n",
       "      <td>10</td>\n",
       "      <td>428573</td>\n",
       "      <td>593214</td>\n",
       "      <td>152</td>\n",
       "    </tr>\n",
       "  </tbody>\n",
       "</table>\n",
       "</div>"
      ],
      "text/plain": [
       "         time  user_id  creative_id  click_times\n",
       "2212918    10   428573       593214          152"
      ]
     },
     "execution_count": 10,
     "metadata": {},
     "output_type": "execute_result"
    },
    {
     "data": {
      "text/plain": [
       "1      31695705\n",
       "2       1706687\n",
       "3        108696\n",
       "4         51499\n",
       "5         10133\n",
       "         ...   \n",
       "167           1\n",
       "44            1\n",
       "69            1\n",
       "60            1\n",
       "185           1\n",
       "Name: click_times, Length: 93, dtype: int64"
      ]
     },
     "execution_count": 10,
     "metadata": {},
     "output_type": "execute_result"
    }
   ],
   "source": [
    "print(train_click.count(), test_click.count())\n",
    "\n",
    "tr_c_times = train_click[\"click_times\"]\n",
    "tr_c_times.value_counts()\n",
    "train_click[tr_c_times == 152]\n",
    "\n",
    "te_c_times = test_click[\"click_times\"]\n",
    "te_c_times.value_counts()"
   ]
  },
  {
   "cell_type": "code",
   "execution_count": 137,
   "metadata": {},
   "outputs": [
    {
     "name": "stdout",
     "output_type": "stream",
     "text": [
      "0              1\n",
      "1              2\n",
      "2              3\n",
      "3              4\n",
      "4              5\n",
      "           ...  \n",
      "899995    899996\n",
      "899996    899997\n",
      "899997    899998\n",
      "899998    899999\n",
      "899999    900000\n",
      "Name: user_id, Length: 900000, dtype: int64\n",
      "(1000000,)\n",
      "1 900000 3000001 4000000\n"
     ]
    }
   ],
   "source": [
    "train_user_id = train_user[\"user_id\"]\n",
    "print(train_user_id)\n",
    "test_user_id = test_click[\"user_id\"]\n",
    "print(test_user_id.unique().shape)\n",
    "\n",
    "print(train_user_id.min(), train_user_id.max(), test_user_id.min(), test_user_id.max())"
   ]
  },
  {
   "cell_type": "code",
   "execution_count": null,
   "metadata": {},
   "outputs": [],
   "source": []
  },
  {
   "cell_type": "code",
   "execution_count": null,
   "metadata": {},
   "outputs": [],
   "source": []
  },
  {
   "cell_type": "code",
   "execution_count": null,
   "metadata": {},
   "outputs": [],
   "source": []
  },
  {
   "cell_type": "code",
   "execution_count": null,
   "metadata": {},
   "outputs": [],
   "source": []
  },
  {
   "cell_type": "code",
   "execution_count": null,
   "metadata": {},
   "outputs": [],
   "source": []
  },
  {
   "cell_type": "code",
   "execution_count": 119,
   "metadata": {},
   "outputs": [
    {
     "data": {
      "text/plain": [
       "creative_id              0\n",
       "ad_id                    0\n",
       "product_id          929524\n",
       "product_category         0\n",
       "advertiser_id            0\n",
       "industry            101048\n",
       "dtype: int64"
      ]
     },
     "execution_count": 119,
     "metadata": {},
     "output_type": "execute_result"
    }
   ],
   "source": [
    "train_ad.isnull().sum()"
   ]
  },
  {
   "cell_type": "code",
   "execution_count": null,
   "metadata": {},
   "outputs": [],
   "source": [
    "nums_ad = train_ad[\"product_id\"].count()\n",
    "print(\"total numbers of ad is {}\".format(nums_ad))"
   ]
  },
  {
   "cell_type": "code",
   "execution_count": 12,
   "metadata": {},
   "outputs": [
    {
     "data": {
      "text/html": [
       "<div>\n",
       "<style scoped>\n",
       "    .dataframe tbody tr th:only-of-type {\n",
       "        vertical-align: middle;\n",
       "    }\n",
       "\n",
       "    .dataframe tbody tr th {\n",
       "        vertical-align: top;\n",
       "    }\n",
       "\n",
       "    .dataframe thead th {\n",
       "        text-align: right;\n",
       "    }\n",
       "</style>\n",
       "<table border=\"1\" class=\"dataframe\">\n",
       "  <thead>\n",
       "    <tr style=\"text-align: right;\">\n",
       "      <th></th>\n",
       "      <th>creative_id</th>\n",
       "      <th>ad_id</th>\n",
       "      <th>product_id</th>\n",
       "      <th>product_category</th>\n",
       "      <th>advertiser_id</th>\n",
       "      <th>industry</th>\n",
       "    </tr>\n",
       "  </thead>\n",
       "  <tbody>\n",
       "    <tr>\n",
       "      <td>0</td>\n",
       "      <td>1</td>\n",
       "      <td>1</td>\n",
       "      <td>NaN</td>\n",
       "      <td>5</td>\n",
       "      <td>381</td>\n",
       "      <td>78.0</td>\n",
       "    </tr>\n",
       "    <tr>\n",
       "      <td>1</td>\n",
       "      <td>4</td>\n",
       "      <td>4</td>\n",
       "      <td>NaN</td>\n",
       "      <td>5</td>\n",
       "      <td>108</td>\n",
       "      <td>202.0</td>\n",
       "    </tr>\n",
       "    <tr>\n",
       "      <td>2</td>\n",
       "      <td>7</td>\n",
       "      <td>7</td>\n",
       "      <td>NaN</td>\n",
       "      <td>5</td>\n",
       "      <td>148</td>\n",
       "      <td>297.0</td>\n",
       "    </tr>\n",
       "    <tr>\n",
       "      <td>3</td>\n",
       "      <td>8</td>\n",
       "      <td>8</td>\n",
       "      <td>NaN</td>\n",
       "      <td>5</td>\n",
       "      <td>713</td>\n",
       "      <td>213.0</td>\n",
       "    </tr>\n",
       "    <tr>\n",
       "      <td>4</td>\n",
       "      <td>9</td>\n",
       "      <td>9</td>\n",
       "      <td>NaN</td>\n",
       "      <td>5</td>\n",
       "      <td>695</td>\n",
       "      <td>213.0</td>\n",
       "    </tr>\n",
       "  </tbody>\n",
       "</table>\n",
       "</div>"
      ],
      "text/plain": [
       "   creative_id  ad_id  product_id  product_category  advertiser_id  industry\n",
       "0            1      1         NaN                 5            381      78.0\n",
       "1            4      4         NaN                 5            108     202.0\n",
       "2            7      7         NaN                 5            148     297.0\n",
       "3            8      8         NaN                 5            713     213.0\n",
       "4            9      9         NaN                 5            695     213.0"
      ]
     },
     "execution_count": 12,
     "metadata": {},
     "output_type": "execute_result"
    }
   ],
   "source": [
    "train_ad.head()"
   ]
  },
  {
   "cell_type": "code",
   "execution_count": 103,
   "metadata": {},
   "outputs": [
    {
     "data": {
      "text/html": [
       "<div>\n",
       "<style scoped>\n",
       "    .dataframe tbody tr th:only-of-type {\n",
       "        vertical-align: middle;\n",
       "    }\n",
       "\n",
       "    .dataframe tbody tr th {\n",
       "        vertical-align: top;\n",
       "    }\n",
       "\n",
       "    .dataframe thead th {\n",
       "        text-align: right;\n",
       "    }\n",
       "</style>\n",
       "<table border=\"1\" class=\"dataframe\">\n",
       "  <thead>\n",
       "    <tr style=\"text-align: right;\">\n",
       "      <th></th>\n",
       "      <th>creative_id</th>\n",
       "      <th>ad_id</th>\n",
       "      <th>product_category</th>\n",
       "      <th>advertiser_id</th>\n",
       "    </tr>\n",
       "  </thead>\n",
       "  <tbody>\n",
       "    <tr>\n",
       "      <td>count</td>\n",
       "      <td>2.481135e+06</td>\n",
       "      <td>2.481135e+06</td>\n",
       "      <td>2.481135e+06</td>\n",
       "      <td>2.481135e+06</td>\n",
       "    </tr>\n",
       "    <tr>\n",
       "      <td>mean</td>\n",
       "      <td>2.192008e+06</td>\n",
       "      <td>1.888107e+06</td>\n",
       "      <td>7.805932e+00</td>\n",
       "      <td>2.741624e+04</td>\n",
       "    </tr>\n",
       "    <tr>\n",
       "      <td>std</td>\n",
       "      <td>1.285497e+06</td>\n",
       "      <td>1.099764e+06</td>\n",
       "      <td>6.770557e+00</td>\n",
       "      <td>1.534631e+04</td>\n",
       "    </tr>\n",
       "    <tr>\n",
       "      <td>min</td>\n",
       "      <td>1.000000e+00</td>\n",
       "      <td>1.000000e+00</td>\n",
       "      <td>1.000000e+00</td>\n",
       "      <td>2.000000e+00</td>\n",
       "    </tr>\n",
       "    <tr>\n",
       "      <td>25%</td>\n",
       "      <td>1.076370e+06</td>\n",
       "      <td>9.391925e+05</td>\n",
       "      <td>2.000000e+00</td>\n",
       "      <td>1.497400e+04</td>\n",
       "    </tr>\n",
       "    <tr>\n",
       "      <td>50%</td>\n",
       "      <td>2.191948e+06</td>\n",
       "      <td>1.889017e+06</td>\n",
       "      <td>5.000000e+00</td>\n",
       "      <td>2.519700e+04</td>\n",
       "    </tr>\n",
       "    <tr>\n",
       "      <td>75%</td>\n",
       "      <td>3.304420e+06</td>\n",
       "      <td>2.839458e+06</td>\n",
       "      <td>1.800000e+01</td>\n",
       "      <td>3.825400e+04</td>\n",
       "    </tr>\n",
       "    <tr>\n",
       "      <td>max</td>\n",
       "      <td>4.445718e+06</td>\n",
       "      <td>3.812200e+06</td>\n",
       "      <td>1.800000e+01</td>\n",
       "      <td>6.296500e+04</td>\n",
       "    </tr>\n",
       "  </tbody>\n",
       "</table>\n",
       "</div>"
      ],
      "text/plain": [
       "        creative_id         ad_id  product_category  advertiser_id\n",
       "count  2.481135e+06  2.481135e+06      2.481135e+06   2.481135e+06\n",
       "mean   2.192008e+06  1.888107e+06      7.805932e+00   2.741624e+04\n",
       "std    1.285497e+06  1.099764e+06      6.770557e+00   1.534631e+04\n",
       "min    1.000000e+00  1.000000e+00      1.000000e+00   2.000000e+00\n",
       "25%    1.076370e+06  9.391925e+05      2.000000e+00   1.497400e+04\n",
       "50%    2.191948e+06  1.889017e+06      5.000000e+00   2.519700e+04\n",
       "75%    3.304420e+06  2.839458e+06      1.800000e+01   3.825400e+04\n",
       "max    4.445718e+06  3.812200e+06      1.800000e+01   6.296500e+04"
      ]
     },
     "execution_count": 103,
     "metadata": {},
     "output_type": "execute_result"
    },
    {
     "name": "stdout",
     "output_type": "stream",
     "text": [
      "<class 'pandas.core.frame.DataFrame'>\n",
      "RangeIndex: 2481135 entries, 0 to 2481134\n",
      "Data columns (total 6 columns):\n",
      "creative_id         int64\n",
      "ad_id               int64\n",
      "product_id          object\n",
      "product_category    int64\n",
      "advertiser_id       int64\n",
      "industry            object\n",
      "dtypes: int64(4), object(2)\n",
      "memory usage: 113.6+ MB\n"
     ]
    },
    {
     "data": {
      "text/plain": [
       "(2481135, 6)"
      ]
     },
     "execution_count": 103,
     "metadata": {},
     "output_type": "execute_result"
    },
    {
     "data": {
      "text/plain": [
       "creative_id         0\n",
       "ad_id               0\n",
       "product_id          0\n",
       "product_category    0\n",
       "advertiser_id       0\n",
       "industry            0\n",
       "dtype: int64"
      ]
     },
     "execution_count": 103,
     "metadata": {},
     "output_type": "execute_result"
    }
   ],
   "source": [
    "train_ad.describe()\n",
    "train_ad.info()\n",
    "train_ad.shape\n",
    "train_ad.isnull().sum()"
   ]
  },
  {
   "cell_type": "code",
   "execution_count": 53,
   "metadata": {},
   "outputs": [
    {
     "data": {
      "text/plain": [
       "creative_id         2481135\n",
       "ad_id               2481135\n",
       "product_id          1551611\n",
       "product_category    2481135\n",
       "advertiser_id       2481135\n",
       "industry            2380087\n",
       "dtype: int64"
      ]
     },
     "execution_count": 53,
     "metadata": {},
     "output_type": "execute_result"
    }
   ],
   "source": [
    "(train_ad != \"\\\\N\").sum()"
   ]
  },
  {
   "cell_type": "code",
   "execution_count": 68,
   "metadata": {},
   "outputs": [
    {
     "name": "stdout",
     "output_type": "stream",
     "text": [
      "In train data, product id have 1551611 / 2481135, exist 62.54%, miss 37.46%\n"
     ]
    }
   ],
   "source": [
    "# #product_id 中缺失值的比例\n",
    "miss_pid = (train_ad[\"product_id\"] != \"\\\\N\").sum()\n",
    "print(\"In train data, product id have {} / {}, exist {:.2f}%, miss {:.2f}%\".format(miss_pid, nums_ad, miss_pid/nums_ad*100, (1-miss_pid/nums_ad)*100))"
   ]
  },
  {
   "cell_type": "code",
   "execution_count": 84,
   "metadata": {},
   "outputs": [
    {
     "name": "stdout",
     "output_type": "stream",
     "text": [
      "In train data, industry have 2380087 / 2481135, exist 95.93%, miss 4.07%\n"
     ]
    }
   ],
   "source": [
    "# #industry 中缺失值的比例\n",
    "miss_pid = (train_ad[\"industry\"] != \"\\\\N\").sum()\n",
    "print(\"In train data, industry have {} / {}, exist {:.2f}%, miss {:.2f}%\".format(miss_pid, nums_ad, miss_pid/nums_ad*100, (1-miss_pid/nums_ad)*100))\n",
    "\n",
    "\n",
    "# industry 列中max是335，min是1，一共是325，有缺失值\n",
    "col_industry = train_ad[\"industry\"]\n",
    "filter_industry = col_industry[train_ad[\"industry\"] != \"\\\\N\"].astype(int)\n"
   ]
  },
  {
   "cell_type": "code",
   "execution_count": 101,
   "metadata": {},
   "outputs": [
    {
     "name": "stdout",
     "output_type": "stream",
     "text": [
      "   user_id  age  gender\n",
      "0        1    4       1\n",
      "1        2   10       1\n",
      "2        3    7       2\n",
      "3        4    5       1\n",
      "4        5    4       1\n"
     ]
    }
   ],
   "source": [
    "train_user = pd.read_csv(train_user_path)\n",
    "print(train_user.head())"
   ]
  },
  {
   "cell_type": "code",
   "execution_count": 16,
   "metadata": {},
   "outputs": [
    {
     "data": {
      "text/html": [
       "<div>\n",
       "<style scoped>\n",
       "    .dataframe tbody tr th:only-of-type {\n",
       "        vertical-align: middle;\n",
       "    }\n",
       "\n",
       "    .dataframe tbody tr th {\n",
       "        vertical-align: top;\n",
       "    }\n",
       "\n",
       "    .dataframe thead th {\n",
       "        text-align: right;\n",
       "    }\n",
       "</style>\n",
       "<table border=\"1\" class=\"dataframe\">\n",
       "  <thead>\n",
       "    <tr style=\"text-align: right;\">\n",
       "      <th></th>\n",
       "      <th>user_id</th>\n",
       "      <th>age</th>\n",
       "      <th>gender</th>\n",
       "    </tr>\n",
       "  </thead>\n",
       "  <tbody>\n",
       "    <tr>\n",
       "      <td>0</td>\n",
       "      <td>1</td>\n",
       "      <td>4</td>\n",
       "      <td>1</td>\n",
       "    </tr>\n",
       "    <tr>\n",
       "      <td>1</td>\n",
       "      <td>2</td>\n",
       "      <td>10</td>\n",
       "      <td>1</td>\n",
       "    </tr>\n",
       "    <tr>\n",
       "      <td>2</td>\n",
       "      <td>3</td>\n",
       "      <td>7</td>\n",
       "      <td>2</td>\n",
       "    </tr>\n",
       "    <tr>\n",
       "      <td>3</td>\n",
       "      <td>4</td>\n",
       "      <td>5</td>\n",
       "      <td>1</td>\n",
       "    </tr>\n",
       "    <tr>\n",
       "      <td>4</td>\n",
       "      <td>5</td>\n",
       "      <td>4</td>\n",
       "      <td>1</td>\n",
       "    </tr>\n",
       "    <tr>\n",
       "      <td>...</td>\n",
       "      <td>...</td>\n",
       "      <td>...</td>\n",
       "      <td>...</td>\n",
       "    </tr>\n",
       "    <tr>\n",
       "      <td>899995</td>\n",
       "      <td>899996</td>\n",
       "      <td>5</td>\n",
       "      <td>1</td>\n",
       "    </tr>\n",
       "    <tr>\n",
       "      <td>899996</td>\n",
       "      <td>899997</td>\n",
       "      <td>3</td>\n",
       "      <td>2</td>\n",
       "    </tr>\n",
       "    <tr>\n",
       "      <td>899997</td>\n",
       "      <td>899998</td>\n",
       "      <td>4</td>\n",
       "      <td>2</td>\n",
       "    </tr>\n",
       "    <tr>\n",
       "      <td>899998</td>\n",
       "      <td>899999</td>\n",
       "      <td>3</td>\n",
       "      <td>1</td>\n",
       "    </tr>\n",
       "    <tr>\n",
       "      <td>899999</td>\n",
       "      <td>900000</td>\n",
       "      <td>3</td>\n",
       "      <td>2</td>\n",
       "    </tr>\n",
       "  </tbody>\n",
       "</table>\n",
       "<p>900000 rows × 3 columns</p>\n",
       "</div>"
      ],
      "text/plain": [
       "        user_id  age  gender\n",
       "0             1    4       1\n",
       "1             2   10       1\n",
       "2             3    7       2\n",
       "3             4    5       1\n",
       "4             5    4       1\n",
       "...         ...  ...     ...\n",
       "899995   899996    5       1\n",
       "899996   899997    3       2\n",
       "899997   899998    4       2\n",
       "899998   899999    3       1\n",
       "899999   900000    3       2\n",
       "\n",
       "[900000 rows x 3 columns]"
      ]
     },
     "execution_count": 16,
     "metadata": {},
     "output_type": "execute_result"
    }
   ],
   "source": [
    "train_user"
   ]
  },
  {
   "cell_type": "code",
   "execution_count": 19,
   "metadata": {},
   "outputs": [
    {
     "data": {
      "text/plain": [
       "3     202909\n",
       "4     150578\n",
       "2     149271\n",
       "5     130667\n",
       "6     101720\n",
       "7      66711\n",
       "1      35195\n",
       "8      31967\n",
       "9      19474\n",
       "10     11508\n",
       "Name: age, dtype: int64"
      ]
     },
     "execution_count": 19,
     "metadata": {},
     "output_type": "execute_result"
    },
    {
     "data": {
      "text/plain": [
       "1    602610\n",
       "2    297390\n",
       "Name: gender, dtype: int64"
      ]
     },
     "execution_count": 19,
     "metadata": {},
     "output_type": "execute_result"
    }
   ],
   "source": [
    "train_user[\"age\"].value_counts()\n",
    "train_user[\"gender\"].value_counts()"
   ]
  }
 ],
 "metadata": {
  "kernelspec": {
   "display_name": "Python 3",
   "language": "python",
   "name": "python3"
  },
  "language_info": {
   "codemirror_mode": {
    "name": "ipython",
    "version": 3
   },
   "file_extension": ".py",
   "mimetype": "text/x-python",
   "name": "python",
   "nbconvert_exporter": "python",
   "pygments_lexer": "ipython3",
   "version": "3.7.6"
  }
 },
 "nbformat": 4,
 "nbformat_minor": 4
}
